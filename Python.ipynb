{
 "cells": [
  {
   "attachments": {},
   "cell_type": "markdown",
   "metadata": {},
   "source": [
    "# Introduction to Python"
   ]
  },
  {
   "attachments": {},
   "cell_type": "markdown",
   "metadata": {},
   "source": [
    "Python works as calculator. We can do basic calculation using python, to perform certain calculation we can use libraries."
   ]
  },
  {
   "cell_type": "code",
   "execution_count": 1,
   "metadata": {},
   "outputs": [
    {
     "data": {
      "text/plain": [
       "17"
      ]
     },
     "execution_count": 1,
     "metadata": {},
     "output_type": "execute_result"
    }
   ],
   "source": [
    "8+9"
   ]
  },
  {
   "attachments": {},
   "cell_type": "markdown",
   "metadata": {},
   "source": [
    "To print something to console we can use print keyword. Inside print we can write whatever we want to print which should be enclosed within single or double quote."
   ]
  },
  {
   "cell_type": "code",
   "execution_count": 2,
   "metadata": {},
   "outputs": [
    {
     "name": "stdout",
     "output_type": "stream",
     "text": [
      "Hello Python\n"
     ]
    }
   ],
   "source": [
    "print (\"Hello Python\")"
   ]
  },
  {
   "attachments": {},
   "cell_type": "markdown",
   "metadata": {},
   "source": [
    "Writing something directly into editor to print it will cause error. As we can only print declared variable in that way."
   ]
  },
  {
   "cell_type": "code",
   "execution_count": 3,
   "metadata": {},
   "outputs": [
    {
     "ename": "NameError",
     "evalue": "name 'Hello' is not defined",
     "output_type": "error",
     "traceback": [
      "\u001b[1;31m---------------------------------------------------------------------------\u001b[0m",
      "\u001b[1;31mNameError\u001b[0m                                 Traceback (most recent call last)",
      "Cell \u001b[1;32mIn[3], line 1\u001b[0m\n\u001b[1;32m----> 1\u001b[0m Hello\n",
      "\u001b[1;31mNameError\u001b[0m: name 'Hello' is not defined"
     ]
    }
   ],
   "source": [
    "Hello"
   ]
  },
  {
   "attachments": {},
   "cell_type": "markdown",
   "metadata": {},
   "source": [
    "To display the message we need to type our message in single or double quote and it will be printed in console"
   ]
  },
  {
   "cell_type": "code",
   "execution_count": 4,
   "metadata": {},
   "outputs": [
    {
     "data": {
      "text/plain": [
       "'Hello'"
      ]
     },
     "execution_count": 4,
     "metadata": {},
     "output_type": "execute_result"
    }
   ],
   "source": [
    "'Hello'"
   ]
  },
  {
   "cell_type": "code",
   "execution_count": 5,
   "metadata": {},
   "outputs": [
    {
     "data": {
      "text/plain": [
       "'Hello'"
      ]
     },
     "execution_count": 5,
     "metadata": {},
     "output_type": "execute_result"
    }
   ],
   "source": [
    "\"Hello\""
   ]
  },
  {
   "attachments": {},
   "cell_type": "markdown",
   "metadata": {},
   "source": [
    "## Comments\n",
    "Python uses # symbol for commenting"
   ]
  },
  {
   "cell_type": "code",
   "execution_count": 6,
   "metadata": {},
   "outputs": [
    {
     "ename": "SyntaxError",
     "evalue": "invalid syntax (3729113397.py, line 1)",
     "output_type": "error",
     "traceback": [
      "\u001b[1;36m  Cell \u001b[1;32mIn[6], line 1\u001b[1;36m\u001b[0m\n\u001b[1;33m    8+9 addition\u001b[0m\n\u001b[1;37m        ^\u001b[0m\n\u001b[1;31mSyntaxError\u001b[0m\u001b[1;31m:\u001b[0m invalid syntax\n"
     ]
    }
   ],
   "source": [
    "8+9 addition"
   ]
  },
  {
   "attachments": {},
   "cell_type": "markdown",
   "metadata": {},
   "source": [
    "Commenting without hash symbol has throw out error"
   ]
  },
  {
   "cell_type": "code",
   "execution_count": 7,
   "metadata": {},
   "outputs": [
    {
     "data": {
      "text/plain": [
       "17"
      ]
     },
     "execution_count": 7,
     "metadata": {},
     "output_type": "execute_result"
    }
   ],
   "source": [
    "8+9 # addition"
   ]
  },
  {
   "attachments": {},
   "cell_type": "markdown",
   "metadata": {},
   "source": [
    "## Python Identifiers\n",
    "1. A Python identifier is the name given to a variable, function, class, module or other object.\n",
    "2. An identifier can begin with an alphabet (A – Z or a – z),  or an underscore (_) and can include any number of letters, digits, or underscores. \n",
    "3. Python is a case-sensitive language\n",
    "4. In Python, a class name will always start with a capital letter\n",
    "5. Python will not accept @, $ and % as identifiers\n",
    "6. Spaces are not allowed."
   ]
  },
  {
   "attachments": {},
   "cell_type": "markdown",
   "metadata": {},
   "source": [
    "## Preserved Keyword"
   ]
  },
  {
   "attachments": {},
   "cell_type": "markdown",
   "metadata": {},
   "source": [
    "1. and \n",
    "1. del \n",
    "1. from \n",
    "1. None \n",
    "1. True\n",
    "1. as           \n",
    "1. elif      \n",
    "1. global      \n",
    "1. nonlocal    \n",
    "1. try\n",
    "1. assert     \n",
    "1. else    \n",
    "1. if       \n",
    "1. not   \n",
    "1. while\n",
    "1. break      \n",
    "1. except     \n",
    "1. import   \n",
    "1. or    \n",
    "1. with\n",
    "1. class      \n",
    "1. False   \n",
    "1. in       \n",
    "1. pass  \n",
    "1. yield\n",
    "1. continue   \n",
    "1. finally \n",
    "1. is       \n",
    "1. raise\n",
    "1. def    \n",
    "1. for\n",
    "1. lambda\n",
    "1. return"
   ]
  },
  {
   "attachments": {},
   "cell_type": "markdown",
   "metadata": {},
   "source": [
    "Python has a list of reserved words known as keywords. Every keyword has a specific purpose and use"
   ]
  },
  {
   "attachments": {},
   "cell_type": "markdown",
   "metadata": {},
   "source": [
    "## Variables"
   ]
  },
  {
   "attachments": {},
   "cell_type": "markdown",
   "metadata": {},
   "source": [
    "### Declaring a variable\n",
    "1. A variable holds a value that may change\n",
    "2. In Python, variables do not need to be declared explicitly in order to reserve memory spaces as in other programming languages like C, Java, etc.\n",
    "3.  When we initialize the variable in Python, Python Interpreter automatically does the declaration process"
   ]
  },
  {
   "attachments": {},
   "cell_type": "markdown",
   "metadata": {},
   "source": [
    "### Initializing a Variable\n",
    "1.  Syntax: Variable = Expression\n",
    "2. The equal sign (=) is known as Assignment operator. \n",
    "3. An expression is any value, text or arithmetic expression, whereas variable is the name of the variable. \n",
    "3. The value of the expression will be stored in the variable."
   ]
  },
  {
   "cell_type": "code",
   "execution_count": 8,
   "metadata": {},
   "outputs": [],
   "source": [
    "name = 'Yarana'\n",
    "birth_year = 2002"
   ]
  },
  {
   "attachments": {},
   "cell_type": "markdown",
   "metadata": {},
   "source": [
    "Whenever you want to display the value of the variables, simply type these variable names on console"
   ]
  },
  {
   "cell_type": "code",
   "execution_count": 9,
   "metadata": {},
   "outputs": [
    {
     "data": {
      "text/plain": [
       "'Yarana'"
      ]
     },
     "execution_count": 9,
     "metadata": {},
     "output_type": "execute_result"
    }
   ],
   "source": [
    "name"
   ]
  },
  {
   "cell_type": "code",
   "execution_count": 10,
   "metadata": {},
   "outputs": [
    {
     "data": {
      "text/plain": [
       "2002"
      ]
     },
     "execution_count": 10,
     "metadata": {},
     "output_type": "execute_result"
    }
   ],
   "source": [
    "birth_year"
   ]
  },
  {
   "attachments": {},
   "cell_type": "markdown",
   "metadata": {},
   "source": [
    "We can also assign one variable value into another variable."
   ]
  },
  {
   "cell_type": "code",
   "execution_count": 13,
   "metadata": {},
   "outputs": [
    {
     "data": {
      "text/plain": [
       "'Yarana'"
      ]
     },
     "execution_count": 13,
     "metadata": {},
     "output_type": "execute_result"
    }
   ],
   "source": [
    "#  Assign the value of name1 variable into name2 variable and print them\n",
    "name = 'Yarana'\n",
    "name1 = name\n",
    "name1"
   ]
  },
  {
   "attachments": {},
   "cell_type": "markdown",
   "metadata": {},
   "source": [
    "Whenever two values are successively assigned to a variable, the interpreter will forget the previous value assigned to it and store the latest value in the variable memory space."
   ]
  },
  {
   "cell_type": "code",
   "execution_count": 14,
   "metadata": {},
   "outputs": [],
   "source": [
    "name = 'yarana'\n",
    "name = 'Yash'"
   ]
  },
  {
   "cell_type": "code",
   "execution_count": 15,
   "metadata": {},
   "outputs": [
    {
     "data": {
      "text/plain": [
       "'Yash'"
      ]
     },
     "execution_count": 15,
     "metadata": {},
     "output_type": "execute_result"
    }
   ],
   "source": [
    "name"
   ]
  },
  {
   "attachments": {},
   "cell_type": "markdown",
   "metadata": {},
   "source": [
    "## Standard Data Types\n",
    "Python has six basic data types which are as follows:\n",
    "1. Numeric\n",
    "2. String\n",
    "3. List\n",
    "4. Tuple\n",
    "5. Dictionary\n",
    "6. Boolean"
   ]
  },
  {
   "attachments": {},
   "cell_type": "markdown",
   "metadata": {},
   "source": [
    "Storing answer in terms of only ‘yes’ or ‘no’, i.e., true or false is known as Boolean data."
   ]
  },
  {
   "attachments": {},
   "cell_type": "markdown",
   "metadata": {},
   "source": [
    "### Numeric"
   ]
  },
  {
   "cell_type": "code",
   "execution_count": 16,
   "metadata": {},
   "outputs": [],
   "source": [
    "num1 = 2\n",
    "num2 = 3.5"
   ]
  },
  {
   "cell_type": "code",
   "execution_count": 17,
   "metadata": {},
   "outputs": [
    {
     "data": {
      "text/plain": [
       "2"
      ]
     },
     "execution_count": 17,
     "metadata": {},
     "output_type": "execute_result"
    }
   ],
   "source": [
    "num1"
   ]
  },
  {
   "cell_type": "code",
   "execution_count": 18,
   "metadata": {},
   "outputs": [
    {
     "data": {
      "text/plain": [
       "3.5"
      ]
     },
     "execution_count": 18,
     "metadata": {},
     "output_type": "execute_result"
    }
   ],
   "source": [
    "num2"
   ]
  },
  {
   "cell_type": "code",
   "execution_count": null,
   "metadata": {},
   "outputs": [],
   "source": [
    "5/2"
   ]
  },
  {
   "attachments": {},
   "cell_type": "markdown",
   "metadata": {},
   "source": [
    "### Strings\n",
    "1. Single quotes or double quotes are used to represent strings\n",
    "2. The first character of a string has an index 0."
   ]
  },
  {
   "attachments": {},
   "cell_type": "markdown",
   "metadata": {},
   "source": [
    "There are many operations that can be performed on a string. There are several operators such as \n",
    "1. slice operator ([]) and ([:])\n",
    "2. concatenation operator (+)\n",
    "3. repetition operator (*), etc. \n",
    "4. Slicing is used to take out a subset of the string, \n",
    "5. concatenation is used to combine two or more than two strings and \n",
    "6. repetition is used to repeat the same string several times."
   ]
  },
  {
   "attachments": {},
   "cell_type": "markdown",
   "metadata": {},
   "source": [
    "Python also provides slice operators ([] and [:]) to extract substring from the string\n"
   ]
  },
  {
   "cell_type": "code",
   "execution_count": 19,
   "metadata": {},
   "outputs": [],
   "source": [
    "first_name  = \"Yarana\"\n",
    "last_name = 'Kumar'"
   ]
  },
  {
   "cell_type": "code",
   "execution_count": 20,
   "metadata": {},
   "outputs": [
    {
     "data": {
      "text/plain": [
       "'YaranaKumar'"
      ]
     },
     "execution_count": 20,
     "metadata": {},
     "output_type": "execute_result"
    }
   ],
   "source": [
    "first_name + last_name"
   ]
  },
  {
   "cell_type": "code",
   "execution_count": 21,
   "metadata": {},
   "outputs": [
    {
     "data": {
      "text/plain": [
       "'YaranaYaranaYarana'"
      ]
     },
     "execution_count": 21,
     "metadata": {},
     "output_type": "execute_result"
    }
   ],
   "source": [
    "first_name * 3"
   ]
  },
  {
   "cell_type": "code",
   "execution_count": 22,
   "metadata": {},
   "outputs": [
    {
     "data": {
      "text/plain": [
       "'a'"
      ]
     },
     "execution_count": 22,
     "metadata": {},
     "output_type": "execute_result"
    }
   ],
   "source": [
    "# Displaying 1st index element\n",
    "name[1]"
   ]
  },
  {
   "cell_type": "code",
   "execution_count": 23,
   "metadata": {},
   "outputs": [
    {
     "data": {
      "text/plain": [
       "'Y'"
      ]
     },
     "execution_count": 23,
     "metadata": {},
     "output_type": "execute_result"
    }
   ],
   "source": [
    "# Displaying 0th index element\n",
    "name[0]"
   ]
  },
  {
   "cell_type": "code",
   "execution_count": 24,
   "metadata": {},
   "outputs": [
    {
     "data": {
      "text/plain": [
       "'Yas'"
      ]
     },
     "execution_count": 24,
     "metadata": {},
     "output_type": "execute_result"
    }
   ],
   "source": [
    "# Displaying 0 to 2nd index element\n",
    "name[0:3]"
   ]
  },
  {
   "cell_type": "code",
   "execution_count": 25,
   "metadata": {},
   "outputs": [],
   "source": [
    "full_name = 'Yarana Kumar'"
   ]
  },
  {
   "cell_type": "code",
   "execution_count": 26,
   "metadata": {},
   "outputs": [
    {
     "data": {
      "text/plain": [
       "'aaaK'"
      ]
     },
     "execution_count": 26,
     "metadata": {},
     "output_type": "execute_result"
    }
   ],
   "source": [
    "# Display all the alternate charactors between index 1 to 8. ie, 1,3,5,7\n",
    "full_name[1:8:2]"
   ]
  },
  {
   "cell_type": "code",
   "execution_count": 27,
   "metadata": {},
   "outputs": [
    {
     "data": {
      "text/plain": [
       "'aaaKmr'"
      ]
     },
     "execution_count": 27,
     "metadata": {},
     "output_type": "execute_result"
    }
   ],
   "source": [
    "full_name[1::2]"
   ]
  },
  {
   "cell_type": "code",
   "execution_count": 28,
   "metadata": {},
   "outputs": [
    {
     "data": {
      "text/plain": [
       "'aaaKm'"
      ]
     },
     "execution_count": 28,
     "metadata": {},
     "output_type": "execute_result"
    }
   ],
   "source": [
    "full_name[1:-1:2]"
   ]
  },
  {
   "cell_type": "code",
   "execution_count": 29,
   "metadata": {},
   "outputs": [
    {
     "data": {
      "text/plain": [
       "'Yara'"
      ]
     },
     "execution_count": 29,
     "metadata": {},
     "output_type": "execute_result"
    }
   ],
   "source": [
    "# Displaying 0 to 3rd index element\n",
    "full_name[0:4]"
   ]
  },
  {
   "attachments": {},
   "cell_type": "markdown",
   "metadata": {},
   "source": [
    "### List\n",
    "1. A list can contain the same type of items.\n",
    "2. Alternatively, a list can also contain different types of items\n",
    "3. A list is an ordered and indexable sequence\n",
    "4. To declare a list we need to separate the items using commas and enclose them within square brackets([])\n",
    "5. List also has plus (+), asterisk (*) and slicing [:] operators for concatenation, repetition and sub-list,"
   ]
  },
  {
   "cell_type": "code",
   "execution_count": 30,
   "metadata": {},
   "outputs": [],
   "source": [
    "name_list = ['Yarana', 'Yash', 'Raunak', 'Roshan']\n",
    "number_list = [1, 1.5, 'One', 'Sixty']"
   ]
  },
  {
   "cell_type": "code",
   "execution_count": 31,
   "metadata": {},
   "outputs": [
    {
     "data": {
      "text/plain": [
       "['Yarana', 'Yash', 'Raunak', 'Roshan']"
      ]
     },
     "execution_count": 31,
     "metadata": {},
     "output_type": "execute_result"
    }
   ],
   "source": [
    "name_list"
   ]
  },
  {
   "cell_type": "code",
   "execution_count": 32,
   "metadata": {},
   "outputs": [
    {
     "data": {
      "text/plain": [
       "[1, 1.5, 'One', 'Sixty']"
      ]
     },
     "execution_count": 32,
     "metadata": {},
     "output_type": "execute_result"
    }
   ],
   "source": [
    "number_list"
   ]
  },
  {
   "cell_type": "code",
   "execution_count": 34,
   "metadata": {},
   "outputs": [
    {
     "data": {
      "text/plain": [
       "['Yarana', 'Yash', 'Raunak', 'Roshan', 1, 1.5, 'One', 'Sixty']"
      ]
     },
     "execution_count": 34,
     "metadata": {},
     "output_type": "execute_result"
    }
   ],
   "source": [
    "# Concatenating the 2 list and printing them\n",
    "name_list + number_list"
   ]
  },
  {
   "cell_type": "code",
   "execution_count": 35,
   "metadata": {},
   "outputs": [
    {
     "data": {
      "text/plain": [
       "['Yarana', 'Yash', 'Raunak', 'Roshan', 1, 1.5, 'One', 'Sixty']"
      ]
     },
     "execution_count": 35,
     "metadata": {},
     "output_type": "execute_result"
    }
   ],
   "source": [
    "# Concatenating the two list and storing them in third list and printing the third list\n",
    "concat_list = name_list + number_list\n",
    "concat_list"
   ]
  },
  {
   "cell_type": "code",
   "execution_count": 36,
   "metadata": {},
   "outputs": [
    {
     "data": {
      "text/plain": [
       "['Yarana', 'Yash']"
      ]
     },
     "execution_count": 36,
     "metadata": {},
     "output_type": "execute_result"
    }
   ],
   "source": [
    "# Displaying sublist(Sublist is the part of list)\n",
    "name_list[0:2]"
   ]
  },
  {
   "cell_type": "code",
   "execution_count": 37,
   "metadata": {},
   "outputs": [
    {
     "data": {
      "text/plain": [
       "['Yarana', 'Yash', 'Raunak', 'Roshan', 'Yarana', 'Yash', 'Raunak', 'Roshan']"
      ]
     },
     "execution_count": 37,
     "metadata": {},
     "output_type": "execute_result"
    }
   ],
   "source": [
    "# Repeating name_list\n",
    "name_list * 2"
   ]
  },
  {
   "attachments": {},
   "cell_type": "markdown",
   "metadata": {},
   "source": [
    "### Tuple\n",
    "1. Similar to a list, a tuple is also used to store sequence of items\n",
    "2. A tuple consists of items separated by commas and are enclosed within parentheses()\n",
    "\n",
    "Lists and tuples have the following differences:\n",
    "1. In lists, items are enclosed within square brackets [], whereas in tuples, items are enclosed within parentheses ().\n",
    "2. Lists are mutable whereas Tuples are immutable. Tuples are read only lists. Once the items are stored, the tuple cannot be modified.\n"
   ]
  },
  {
   "cell_type": "code",
   "execution_count": 38,
   "metadata": {},
   "outputs": [],
   "source": [
    "friends_name = ('Raju', 'Ashu', 'Vibe', 'Gambhir', 'Dilip', 'Rishi', 'Ballu', 'Sandeep')"
   ]
  },
  {
   "cell_type": "code",
   "execution_count": 39,
   "metadata": {},
   "outputs": [
    {
     "data": {
      "text/plain": [
       "('Raju', 'Ashu', 'Vibe', 'Gambhir', 'Dilip', 'Rishi', 'Ballu', 'Sandeep')"
      ]
     },
     "execution_count": 39,
     "metadata": {},
     "output_type": "execute_result"
    }
   ],
   "source": [
    "friends_name"
   ]
  },
  {
   "cell_type": "code",
   "execution_count": 42,
   "metadata": {},
   "outputs": [
    {
     "name": "stdout",
     "output_type": "stream",
     "text": [
      "['Yarana Kumar', 'Yash', 'Raunak', 'Roshan']\n"
     ]
    }
   ],
   "source": [
    "# We can change element in list\n",
    "name_list[0] = 'Yarana Kumar'\n",
    "print(name_list)"
   ]
  },
  {
   "cell_type": "code",
   "execution_count": 43,
   "metadata": {},
   "outputs": [
    {
     "name": "stdout",
     "output_type": "stream",
     "text": [
      "8\n"
     ]
    }
   ],
   "source": [
    "# Printing the length of tuple\n",
    "print(len(friends_name))"
   ]
  },
  {
   "cell_type": "code",
   "execution_count": 44,
   "metadata": {},
   "outputs": [
    {
     "ename": "TypeError",
     "evalue": "'tuple' object does not support item assignment",
     "output_type": "error",
     "traceback": [
      "\u001b[1;31m---------------------------------------------------------------------------\u001b[0m",
      "\u001b[1;31mTypeError\u001b[0m                                 Traceback (most recent call last)",
      "Cell \u001b[1;32mIn[44], line 2\u001b[0m\n\u001b[0;32m      1\u001b[0m \u001b[39m# Tuple do not support object assignment as tuple is immutable\u001b[39;00m\n\u001b[1;32m----> 2\u001b[0m friends_name[\u001b[39m8\u001b[39;49m] \u001b[39m=\u001b[39m \u001b[39m'\u001b[39m\u001b[39mAdarsh\u001b[39m\u001b[39m'\u001b[39m\n\u001b[0;32m      3\u001b[0m \u001b[39mprint\u001b[39m(friends_name)\n",
      "\u001b[1;31mTypeError\u001b[0m: 'tuple' object does not support item assignment"
     ]
    }
   ],
   "source": [
    "# Tuple do not support object assignment as tuple is immutable\n",
    "friends_name[8] = 'Adarsh'\n",
    "print(friends_name)"
   ]
  },
  {
   "attachments": {},
   "cell_type": "markdown",
   "metadata": {},
   "source": [
    "### Dictionary"
   ]
  },
  {
   "attachments": {},
   "cell_type": "markdown",
   "metadata": {},
   "source": [
    "1. A Python dictionary is an unordered collection of key-value pairs. \n",
    "1. When we have the large amount of data, the dictionary data type is used.\n",
    "1. The order of elements in a dictionary is undefined\n",
    "1. Items in dictionary are enclosed in the curly-braces{} and separated by the comma (,). \n",
    "1. A colon (:) is used to separate key from value. \n",
    "1. A key inside the square bracket [] is used for accessing the dictionary items\n",
    "\n",
    "We can iterate over the following:\n",
    "1. The keys\n",
    "1. The values\n",
    "1. The items (key-value pairs) in a dictionary\n"
   ]
  },
  {
   "cell_type": "code",
   "execution_count": 46,
   "metadata": {},
   "outputs": [],
   "source": [
    "# Example of Dictionary\n",
    "yarana = {'name' : 'Yarana Kumar', 'age' : 19, 'course' : 'BVCA'}"
   ]
  },
  {
   "cell_type": "code",
   "execution_count": 47,
   "metadata": {},
   "outputs": [
    {
     "data": {
      "text/plain": [
       "{'name': 'Yarana Kumar', 'age': 19, 'course': 'BVCA'}"
      ]
     },
     "execution_count": 47,
     "metadata": {},
     "output_type": "execute_result"
    }
   ],
   "source": [
    "yarana"
   ]
  },
  {
   "cell_type": "code",
   "execution_count": 48,
   "metadata": {},
   "outputs": [],
   "source": [
    "# Adding another item to dictionary\n",
    "yarana['gender'] = 'Male'"
   ]
  },
  {
   "cell_type": "code",
   "execution_count": 49,
   "metadata": {},
   "outputs": [
    {
     "data": {
      "text/plain": [
       "{'name': 'Yarana Kumar', 'age': 19, 'course': 'BVCA', 'gender': 'Male'}"
      ]
     },
     "execution_count": 49,
     "metadata": {},
     "output_type": "execute_result"
    }
   ],
   "source": [
    "yarana"
   ]
  },
  {
   "cell_type": "code",
   "execution_count": 50,
   "metadata": {},
   "outputs": [
    {
     "data": {
      "text/plain": [
       "dict_keys(['name', 'age', 'course', 'gender'])"
      ]
     },
     "execution_count": 50,
     "metadata": {},
     "output_type": "execute_result"
    }
   ],
   "source": [
    "# Displaying the keys of the dictionary: dict.keys() function is used \n",
    "yarana.keys()"
   ]
  },
  {
   "cell_type": "code",
   "execution_count": 51,
   "metadata": {},
   "outputs": [
    {
     "data": {
      "text/plain": [
       "dict_values(['Yarana Kumar', 19, 'BVCA', 'Male'])"
      ]
     },
     "execution_count": 51,
     "metadata": {},
     "output_type": "execute_result"
    }
   ],
   "source": [
    "# Displaying the values of the dictionary: dict.values() function is used \n",
    "yarana.values()"
   ]
  },
  {
   "attachments": {},
   "cell_type": "markdown",
   "metadata": {},
   "source": [
    "### Boolean\n",
    "True and False data is known as Boolean Data and the data types which stores this Boolean data are known as Boolean Data Types"
   ]
  },
  {
   "cell_type": "code",
   "execution_count": 52,
   "metadata": {},
   "outputs": [],
   "source": [
    "a = True\n",
    "b = False"
   ]
  },
  {
   "cell_type": "code",
   "execution_count": 53,
   "metadata": {},
   "outputs": [
    {
     "data": {
      "text/plain": [
       "bool"
      ]
     },
     "execution_count": 53,
     "metadata": {},
     "output_type": "execute_result"
    }
   ],
   "source": [
    "type(a)"
   ]
  },
  {
   "cell_type": "code",
   "execution_count": 54,
   "metadata": {},
   "outputs": [
    {
     "data": {
      "text/plain": [
       "bool"
      ]
     },
     "execution_count": 54,
     "metadata": {},
     "output_type": "execute_result"
    }
   ],
   "source": [
    "type(b)"
   ]
  },
  {
   "attachments": {},
   "cell_type": "markdown",
   "metadata": {},
   "source": [
    "### Sets\n",
    "1.  Data type which is an unordered collection of data known as Set\n",
    "1.  A Set does not contain any duplicate values or elements.\n",
    "\n",
    "Union, Intersection, Difference and Symmetric Difference are some operations which are performed on sets.\n",
    "1.  Union: Union operation performed on two sets returns all the elements from both the sets. It is performed by using | operator.\n",
    "1.  Intersection: Intersection operation performed on two sets returns all the element which are common or in both the sets. It is performed by using & operator.\n",
    "1.  Difference: Difference operation performed on two sets set1 and set2 returns the elements which are present on set1 but not in set2. It is performed by using – operator.\n",
    "1.  Symmetric Difference: Symmetric Difference operation performed on two sets returns the element which are present in either set1 or set2 but not in both. It is performed by using ^ operator."
   ]
  },
  {
   "cell_type": "code",
   "execution_count": 55,
   "metadata": {},
   "outputs": [],
   "source": [
    "# Defining sets\n",
    "set1 = set([1, 2, 3, 1, 5, 2, 6, 8])\n",
    "set2 = set([1, 2, 9, 5])"
   ]
  },
  {
   "cell_type": "code",
   "execution_count": 56,
   "metadata": {},
   "outputs": [
    {
     "name": "stdout",
     "output_type": "stream",
     "text": [
      "{1, 2, 3, 5, 6, 8}\n"
     ]
    }
   ],
   "source": [
    "print(set1)"
   ]
  },
  {
   "cell_type": "code",
   "execution_count": 57,
   "metadata": {},
   "outputs": [
    {
     "name": "stdout",
     "output_type": "stream",
     "text": [
      "{1, 2, 5, 9}\n"
     ]
    }
   ],
   "source": [
    "print(set2)"
   ]
  },
  {
   "cell_type": "code",
   "execution_count": 58,
   "metadata": {},
   "outputs": [
    {
     "data": {
      "text/plain": [
       "{1, 2, 5}"
      ]
     },
     "execution_count": 58,
     "metadata": {},
     "output_type": "execute_result"
    }
   ],
   "source": [
    "# Intersection\n",
    "set1 & set2"
   ]
  },
  {
   "cell_type": "code",
   "execution_count": 59,
   "metadata": {},
   "outputs": [
    {
     "data": {
      "text/plain": [
       "{1, 2, 3, 5, 6, 8, 9}"
      ]
     },
     "execution_count": 59,
     "metadata": {},
     "output_type": "execute_result"
    }
   ],
   "source": [
    "# Union\n",
    "set1 | set2"
   ]
  },
  {
   "cell_type": "code",
   "execution_count": 60,
   "metadata": {},
   "outputs": [
    {
     "data": {
      "text/plain": [
       "{3, 6, 8}"
      ]
     },
     "execution_count": 60,
     "metadata": {},
     "output_type": "execute_result"
    }
   ],
   "source": [
    "# Difference\n",
    "set1 - set2"
   ]
  },
  {
   "cell_type": "code",
   "execution_count": 61,
   "metadata": {},
   "outputs": [
    {
     "data": {
      "text/plain": [
       "{9}"
      ]
     },
     "execution_count": 61,
     "metadata": {},
     "output_type": "execute_result"
    }
   ],
   "source": [
    "set2 - set1"
   ]
  },
  {
   "cell_type": "code",
   "execution_count": 62,
   "metadata": {},
   "outputs": [
    {
     "data": {
      "text/plain": [
       "{3, 6, 8, 9}"
      ]
     },
     "execution_count": 62,
     "metadata": {},
     "output_type": "execute_result"
    }
   ],
   "source": [
    "# Symmetric Difference\n",
    "set1 ^ set2"
   ]
  },
  {
   "cell_type": "code",
   "execution_count": 63,
   "metadata": {},
   "outputs": [
    {
     "data": {
      "text/plain": [
       "{3, 6, 8, 9}"
      ]
     },
     "execution_count": 63,
     "metadata": {},
     "output_type": "execute_result"
    }
   ],
   "source": [
    "set2 ^ set1"
   ]
  },
  {
   "attachments": {},
   "cell_type": "markdown",
   "metadata": {},
   "source": [
    "### <span style=\"color:red\">**type()**</span>  function\n",
    "type() function in Python programming language is a built-in function which returns the datatype of any arbitrary object"
   ]
  },
  {
   "cell_type": "code",
   "execution_count": 64,
   "metadata": {},
   "outputs": [
    {
     "data": {
      "text/plain": [
       "int"
      ]
     },
     "execution_count": 64,
     "metadata": {},
     "output_type": "execute_result"
    }
   ],
   "source": [
    "type(1)"
   ]
  },
  {
   "cell_type": "code",
   "execution_count": 65,
   "metadata": {},
   "outputs": [
    {
     "data": {
      "text/plain": [
       "bool"
      ]
     },
     "execution_count": 65,
     "metadata": {},
     "output_type": "execute_result"
    }
   ],
   "source": [
    "type(True)"
   ]
  },
  {
   "cell_type": "code",
   "execution_count": 66,
   "metadata": {},
   "outputs": [
    {
     "data": {
      "text/plain": [
       "set"
      ]
     },
     "execution_count": 66,
     "metadata": {},
     "output_type": "execute_result"
    }
   ],
   "source": [
    "type(set1)"
   ]
  },
  {
   "cell_type": "code",
   "execution_count": 67,
   "metadata": {},
   "outputs": [
    {
     "data": {
      "text/plain": [
       "dict"
      ]
     },
     "execution_count": 67,
     "metadata": {},
     "output_type": "execute_result"
    }
   ],
   "source": [
    "type(yarana)"
   ]
  },
  {
   "cell_type": "code",
   "execution_count": 68,
   "metadata": {},
   "outputs": [
    {
     "data": {
      "text/plain": [
       "str"
      ]
     },
     "execution_count": 68,
     "metadata": {},
     "output_type": "execute_result"
    }
   ],
   "source": [
    "type('Yarana')"
   ]
  },
  {
   "cell_type": "code",
   "execution_count": 69,
   "metadata": {},
   "outputs": [
    {
     "data": {
      "text/plain": [
       "module"
      ]
     },
     "execution_count": 69,
     "metadata": {},
     "output_type": "execute_result"
    }
   ],
   "source": [
    "import os\n",
    "type(os)"
   ]
  },
  {
   "cell_type": "code",
   "execution_count": 70,
   "metadata": {},
   "outputs": [
    {
     "data": {
      "text/plain": [
       "tuple"
      ]
     },
     "execution_count": 70,
     "metadata": {},
     "output_type": "execute_result"
    }
   ],
   "source": [
    "tup = (1, 2, 3)\n",
    "type(tup)"
   ]
  },
  {
   "cell_type": "code",
   "execution_count": 71,
   "metadata": {},
   "outputs": [
    {
     "data": {
      "text/plain": [
       "list"
      ]
     },
     "execution_count": 71,
     "metadata": {},
     "output_type": "execute_result"
    }
   ],
   "source": [
    "lis = [1, 2, 'Yarana']\n",
    "type(lis)"
   ]
  },
  {
   "attachments": {},
   "cell_type": "markdown",
   "metadata": {},
   "source": [
    "## Operators\n",
    "Operators are constructs used to modify the values of operands. Based on functionality, operators are categories into following seven types:\n",
    "1. Arithmetic operator\n",
    "2. Comparison operator\n",
    "3. Assignment operator\n",
    "4. Logical operator\n",
    "5. Bitwise operator\n",
    "6. Membership operator\n",
    "7. Identity operator"
   ]
  },
  {
   "attachments": {},
   "cell_type": "markdown",
   "metadata": {},
   "source": [
    "### Arithmetic Operators\n",
    "1. <span style=\"color:black\"><b>+</b></span> :     Addition operator to add two operands\n",
    "1. <span style=\"color:black\"><b>–</b></span> :     Subtraction operator to subtract two operands\n",
    "1. <span style=\"color:black\"><b>*</b></span> :     Multiplication operator to multiply two operands\n",
    "1. <span style=\"color:black\"><b>/</b></span> :     Division operator to divide left hand operator by right hand Operator\n",
    "1. <span style=\"color:black\"><b>**</b></span>:     Exponential operator to calculate power\n",
    "1. <span style=\"color:black\"><b>%</b></span> :     Modulus operator to find remainder\n",
    "1. <span style=\"color:black\"><b>//</b></span>:     Floor division operator to find the quotient and remove the fractional part"
   ]
  },
  {
   "cell_type": "code",
   "execution_count": 72,
   "metadata": {},
   "outputs": [],
   "source": [
    "x = 10\n",
    "y = 5"
   ]
  },
  {
   "cell_type": "code",
   "execution_count": 73,
   "metadata": {},
   "outputs": [
    {
     "data": {
      "text/plain": [
       "15"
      ]
     },
     "execution_count": 73,
     "metadata": {},
     "output_type": "execute_result"
    }
   ],
   "source": [
    "x+y"
   ]
  },
  {
   "cell_type": "code",
   "execution_count": 74,
   "metadata": {},
   "outputs": [
    {
     "data": {
      "text/plain": [
       "5"
      ]
     },
     "execution_count": 74,
     "metadata": {},
     "output_type": "execute_result"
    }
   ],
   "source": [
    "x-y"
   ]
  },
  {
   "cell_type": "code",
   "execution_count": 75,
   "metadata": {},
   "outputs": [
    {
     "data": {
      "text/plain": [
       "50"
      ]
     },
     "execution_count": 75,
     "metadata": {},
     "output_type": "execute_result"
    }
   ],
   "source": [
    "x*y"
   ]
  },
  {
   "cell_type": "code",
   "execution_count": 76,
   "metadata": {},
   "outputs": [
    {
     "data": {
      "text/plain": [
       "2.0"
      ]
     },
     "execution_count": 76,
     "metadata": {},
     "output_type": "execute_result"
    }
   ],
   "source": [
    "x/y"
   ]
  },
  {
   "cell_type": "code",
   "execution_count": 77,
   "metadata": {},
   "outputs": [
    {
     "data": {
      "text/plain": [
       "100000"
      ]
     },
     "execution_count": 77,
     "metadata": {},
     "output_type": "execute_result"
    }
   ],
   "source": [
    "x**y"
   ]
  },
  {
   "cell_type": "code",
   "execution_count": 78,
   "metadata": {},
   "outputs": [
    {
     "data": {
      "text/plain": [
       "0"
      ]
     },
     "execution_count": 78,
     "metadata": {},
     "output_type": "execute_result"
    }
   ],
   "source": [
    "x%y"
   ]
  },
  {
   "cell_type": "code",
   "execution_count": 79,
   "metadata": {},
   "outputs": [
    {
     "data": {
      "text/plain": [
       "2"
      ]
     },
     "execution_count": 79,
     "metadata": {},
     "output_type": "execute_result"
    }
   ],
   "source": [
    "x//y"
   ]
  },
  {
   "cell_type": "code",
   "execution_count": 80,
   "metadata": {},
   "outputs": [
    {
     "data": {
      "text/plain": [
       "1.0"
      ]
     },
     "execution_count": 80,
     "metadata": {},
     "output_type": "execute_result"
    }
   ],
   "source": [
    "5.908//5"
   ]
  },
  {
   "attachments": {},
   "cell_type": "markdown",
   "metadata": {},
   "source": [
    "### Comparison Operators\n",
    "1. <span style=\"color:red\"><b>==</b></span> : Operator to check whether two operands are equal.\n",
    "1. <span style=\"color:red\"><b>!= or <></b></span> : Operator to check whether two operands are not equal\n",
    "1. <span style=\"color:red\"><b>></b></span> : Operator to check whether first operand is greater than second operand\n",
    "1. <span style=\"color:red\"><b>< </b></span>: Operator to check whether first operand is smaller than second operand\n",
    "1. <span style=\"color:red\"><b>>=</b></span> : Operator to check whether first operand is greater than or equal to second operand.\n",
    "1. <span style=\"color:red\"><b><=</b></span> : Operator to check whether first operand is smaller than or equal to second operand\n"
   ]
  },
  {
   "cell_type": "code",
   "execution_count": 81,
   "metadata": {},
   "outputs": [
    {
     "data": {
      "text/plain": [
       "False"
      ]
     },
     "execution_count": 81,
     "metadata": {},
     "output_type": "execute_result"
    }
   ],
   "source": [
    "5==6"
   ]
  },
  {
   "cell_type": "code",
   "execution_count": 82,
   "metadata": {},
   "outputs": [
    {
     "data": {
      "text/plain": [
       "False"
      ]
     },
     "execution_count": 82,
     "metadata": {},
     "output_type": "execute_result"
    }
   ],
   "source": [
    "5!=5"
   ]
  },
  {
   "cell_type": "code",
   "execution_count": 83,
   "metadata": {},
   "outputs": [
    {
     "data": {
      "text/plain": [
       "False"
      ]
     },
     "execution_count": 83,
     "metadata": {},
     "output_type": "execute_result"
    }
   ],
   "source": [
    "5 > 44"
   ]
  },
  {
   "attachments": {},
   "cell_type": "markdown",
   "metadata": {},
   "source": [
    "### Assignment Operators\n",
    "This operator is used to store right side operand in the left side operand.\n",
    "1. <span style=\"color:red\"><b>=  </b></span> : Store right side operand in left side operand.\n",
    "1. <span style=\"color:red\"><b>+= </b></span> : Add right side operand to left side operand and store the result in left side operand.\n",
    "1. <span style=\"color:red\"><b>–= </b></span> : Subtract right side operand from left side operand and store the result in left side operand.\n",
    "1. <span style=\"color:red\"><b>*= </b></span> : Multiply right side operand with left side operand and store the result in left side operand.\n",
    "1. <span style=\"color:red\"><b>/= </b></span> : Divide left side operand by right side operand and store the result in left side operand. \n",
    "1. <span style=\"color:red\"><b>%= </b></span> : Find the modulus and store the remainder in left side operand.\n",
    "1. <span style=\"color:red\"><b>**=</b></span> : Find the exponential and store the result in left side operand. \n",
    "1. <span style=\"color:red\"><b>//=</b></span> : Find the floor division and store the result in left side operand."
   ]
  },
  {
   "cell_type": "code",
   "execution_count": 84,
   "metadata": {},
   "outputs": [
    {
     "name": "stdout",
     "output_type": "stream",
     "text": [
      "12\n"
     ]
    }
   ],
   "source": [
    "x = 10\n",
    "y = 12\n",
    "x = y\n",
    "print(x)"
   ]
  },
  {
   "cell_type": "code",
   "execution_count": 85,
   "metadata": {},
   "outputs": [
    {
     "name": "stdout",
     "output_type": "stream",
     "text": [
      "22 12\n"
     ]
    }
   ],
   "source": [
    "x = 10\n",
    "y = 12\n",
    "x += y\n",
    "print(x,y)"
   ]
  },
  {
   "cell_type": "code",
   "execution_count": 86,
   "metadata": {},
   "outputs": [
    {
     "name": "stdout",
     "output_type": "stream",
     "text": [
      "10 2\n"
     ]
    }
   ],
   "source": [
    "x = 10\n",
    "y = 12\n",
    "y -= x\n",
    "print(x,y)"
   ]
  },
  {
   "cell_type": "code",
   "execution_count": 87,
   "metadata": {},
   "outputs": [
    {
     "name": "stdout",
     "output_type": "stream",
     "text": [
      "120 12\n"
     ]
    }
   ],
   "source": [
    "x = 10\n",
    "y = 12\n",
    "x *= y \n",
    "print(x, y)"
   ]
  },
  {
   "cell_type": "code",
   "execution_count": 88,
   "metadata": {},
   "outputs": [
    {
     "name": "stdout",
     "output_type": "stream",
     "text": [
      "1000000000000 12\n"
     ]
    }
   ],
   "source": [
    "x = 10\n",
    "y = 12\n",
    "x **= y\n",
    "print(x, y)"
   ]
  },
  {
   "attachments": {},
   "cell_type": "markdown",
   "metadata": {},
   "source": [
    "### Bitwise Operators\n",
    "These operators perform bit level operation on operands. \n",
    "1.  <span style=\"color:red\"><b>&  </b></span>: Bitwise AND This operator performs AND operation between operands. Operator copies bit if it exists in both operands.\n",
    "1.  <span style=\"color:red\"><b>|  </b></span>: Bitwise OR This operator performs OR operation between operands. Operator copies bit if it exists in either operand.\n",
    "1.  <span style=\"color:red\"><b>^  </b></span>: Bitwise XOR This operator performs XOR operation between operands. Operator copies bit if it exists only in one operand.\n",
    "1.  <span style=\"color:red\"><b>~  </b></span>: bitwise inverse This operator is a unary operator used to opposite the bits of operand.\n",
    "1.  <span style=\"color:red\"><b><< </b></span>: left shift This operator is used to shift the bits towards left\n",
    "1.  <span style=\"color:red\"><b><< </b></span>: right shift This operator is used to shift the bits towards right"
   ]
  },
  {
   "cell_type": "code",
   "execution_count": 90,
   "metadata": {},
   "outputs": [
    {
     "name": "stdout",
     "output_type": "stream",
     "text": [
      "8\n"
     ]
    }
   ],
   "source": [
    "x = 10 # 10 = 0000 1010\n",
    "y = 12 # 12 = 0000 1100\n",
    "z = 0  \n",
    "# Bitwise AND\n",
    "z = x & y\n",
    "print(z)\n",
    "# z = 8 = 0000 1000"
   ]
  },
  {
   "cell_type": "code",
   "execution_count": 93,
   "metadata": {},
   "outputs": [
    {
     "name": "stdout",
     "output_type": "stream",
     "text": [
      "14\n"
     ]
    }
   ],
   "source": [
    "a = 10 # 10 = 0000 1010\n",
    "b = 12 # 12 = 0000 1100\n",
    "c = 0  \n",
    "# Bitwise OR\n",
    "c = a | b\n",
    "print(c)\n",
    "# c = 8 = 0000 1110"
   ]
  },
  {
   "attachments": {},
   "cell_type": "markdown",
   "metadata": {},
   "source": [
    "### Logical Operators\n",
    "These operators are used to check two or more conditions\n",
    "1.  <span style=\"color:red\"><b>and</b></span> logical AND ===> This operator performs AND operation between operands. When both operands are true, the resultant become true.\n",
    "1.  <span style=\"color:red\"><b>or </b></span>logical OR ===> This operator performs OR operation between operands. When any operand is true, the resultant becomes true.\n",
    "1.  <span style=\"color:red\"><b>not</b></span> logical NOT ===> This operator is used to reverse the operand state."
   ]
  },
  {
   "cell_type": "code",
   "execution_count": 94,
   "metadata": {},
   "outputs": [],
   "source": [
    "x = True\n",
    "y = False"
   ]
  },
  {
   "cell_type": "code",
   "execution_count": 95,
   "metadata": {},
   "outputs": [
    {
     "name": "stdout",
     "output_type": "stream",
     "text": [
      "False\n"
     ]
    }
   ],
   "source": [
    "print(x and y)"
   ]
  },
  {
   "cell_type": "code",
   "execution_count": 96,
   "metadata": {},
   "outputs": [
    {
     "name": "stdout",
     "output_type": "stream",
     "text": [
      "True\n"
     ]
    }
   ],
   "source": [
    "print(x or y)"
   ]
  },
  {
   "cell_type": "code",
   "execution_count": 97,
   "metadata": {},
   "outputs": [
    {
     "name": "stdout",
     "output_type": "stream",
     "text": [
      "True\n"
     ]
    }
   ],
   "source": [
    "print(not y)"
   ]
  },
  {
   "cell_type": "code",
   "execution_count": 98,
   "metadata": {},
   "outputs": [
    {
     "name": "stdout",
     "output_type": "stream",
     "text": [
      "False\n"
     ]
    }
   ],
   "source": [
    "print(not x)"
   ]
  },
  {
   "attachments": {},
   "cell_type": "markdown",
   "metadata": {},
   "source": [
    "### Membership Operators\n",
    "These operators are used to check an item or an element that is part of a string, a list or a tuple.\n",
    "1. <span style=\"color:red\"><b>in</b></span> ===> Return true, if item is in list or in sequence. Return false, if item is not in list \n",
    "1. <span style=\"color:red\"><b>not in</b></span> ===> Return false, if item is in list or in sequence. Return true, if item is not in list or in sequence."
   ]
  },
  {
   "cell_type": "code",
   "execution_count": 99,
   "metadata": {},
   "outputs": [],
   "source": [
    "list1 = [1, 2, 3, 4]\n",
    "x = 1\n",
    "y = 5"
   ]
  },
  {
   "cell_type": "code",
   "execution_count": 102,
   "metadata": {},
   "outputs": [
    {
     "data": {
      "text/plain": [
       "True"
      ]
     },
     "execution_count": 102,
     "metadata": {},
     "output_type": "execute_result"
    }
   ],
   "source": [
    "x in list1"
   ]
  },
  {
   "cell_type": "code",
   "execution_count": 103,
   "metadata": {},
   "outputs": [
    {
     "data": {
      "text/plain": [
       "False"
      ]
     },
     "execution_count": 103,
     "metadata": {},
     "output_type": "execute_result"
    }
   ],
   "source": [
    "x not in list1"
   ]
  },
  {
   "cell_type": "code",
   "execution_count": 104,
   "metadata": {},
   "outputs": [
    {
     "data": {
      "text/plain": [
       "False"
      ]
     },
     "execution_count": 104,
     "metadata": {},
     "output_type": "execute_result"
    }
   ],
   "source": [
    "y in list1"
   ]
  },
  {
   "attachments": {},
   "cell_type": "markdown",
   "metadata": {},
   "source": [
    "### Indentity Operators\n",
    "These operators are used to check whether both operands are same or not.\n",
    "1. <span style=\"color:red\"><b>is</b></span> ===> Return true, if the operands are same. Return false, if the operands are not same.\n",
    "1. <span style=\"color:red\"><b>not is</b></span> ===> Return false, if the operands are same. Return true, if the operands are not same."
   ]
  },
  {
   "cell_type": "code",
   "execution_count": 105,
   "metadata": {},
   "outputs": [],
   "source": [
    "x = 12\n",
    "y = 12"
   ]
  },
  {
   "cell_type": "code",
   "execution_count": 106,
   "metadata": {},
   "outputs": [
    {
     "data": {
      "text/plain": [
       "True"
      ]
     },
     "execution_count": 106,
     "metadata": {},
     "output_type": "execute_result"
    }
   ],
   "source": [
    "x is y"
   ]
  },
  {
   "cell_type": "code",
   "execution_count": 107,
   "metadata": {},
   "outputs": [
    {
     "data": {
      "text/plain": [
       "False"
      ]
     },
     "execution_count": 107,
     "metadata": {},
     "output_type": "execute_result"
    }
   ],
   "source": [
    "y = 10\n",
    "x is y"
   ]
  },
  {
   "attachments": {},
   "cell_type": "markdown",
   "metadata": {},
   "source": [
    "### Precedence of Operators\n",
    "When an expression has two or more operators, we need to identify the correct sequence to evaluate these operators.\n",
    "\n",
    "Lower precedence to higher\n",
    "1. NOT, OR AND Logical operators\n",
    "1. in , not in Membership operator\n",
    "1. is, not is Identity operator\n",
    "1. =, %=, /=, //=, -=, +=, *=, **== Assignment operators.\n",
    "1. <>, ==, != Equality comparison operator\n",
    "1. <=, <, >, >= Comparison operators\n",
    "1. ^, | Bitwise XOR and OR operator\n",
    "1. & Bitwise AND operator\n",
    "1. <<, >> Bitwise left shift and right shift \n",
    "1. +, - Addition and subtraction\n",
    "1. *, /, %, // Multiplication, Division, Modulus and floor division\n",
    "1. ** Exponential operator"
   ]
  },
  {
   "cell_type": "code",
   "execution_count": 109,
   "metadata": {},
   "outputs": [
    {
     "data": {
      "text/plain": [
       "39.0"
      ]
     },
     "execution_count": 109,
     "metadata": {},
     "output_type": "execute_result"
    }
   ],
   "source": [
    "2**5+8-10/10"
   ]
  },
  {
   "cell_type": "code",
   "execution_count": 110,
   "metadata": {},
   "outputs": [
    {
     "data": {
      "text/plain": [
       "39.0"
      ]
     },
     "execution_count": 110,
     "metadata": {},
     "output_type": "execute_result"
    }
   ],
   "source": [
    "(2**5)+8-(10/10)\n"
   ]
  },
  {
   "attachments": {},
   "cell_type": "markdown",
   "metadata": {},
   "source": [
    "### Associativity\n",
    "1. Associativity decides the order in which the operators with same precedence are executed\n",
    "2. There are two types of associativity. One is left-to-right and other is right-to-left\n",
    "3. Most of the operators in Python have left-to-right associativity"
   ]
  },
  {
   "cell_type": "code",
   "execution_count": null,
   "metadata": {},
   "outputs": [],
   "source": [
    "3*4//6"
   ]
  },
  {
   "cell_type": "code",
   "execution_count": null,
   "metadata": {},
   "outputs": [],
   "source": [
    "3*(4//6)\n",
    "# // returns quotient integegral part"
   ]
  },
  {
   "cell_type": "code",
   "execution_count": null,
   "metadata": {},
   "outputs": [],
   "source": [
    "3**4**2\n",
    "# 3^16"
   ]
  },
  {
   "cell_type": "code",
   "execution_count": null,
   "metadata": {},
   "outputs": [],
   "source": [
    "(3**4)**2"
   ]
  },
  {
   "cell_type": "code",
   "execution_count": null,
   "metadata": {},
   "outputs": [],
   "source": [
    "10*5/5"
   ]
  },
  {
   "attachments": {},
   "cell_type": "markdown",
   "metadata": {},
   "source": [
    "Based on the number of operands, operators are classified into following two types:\n",
    "1. Unary Operator\n",
    "2. Binary Operator"
   ]
  },
  {
   "attachments": {},
   "cell_type": "markdown",
   "metadata": {},
   "source": [
    "### Unary Operator\n",
    "1. Unary operators are operators with only one operand\n",
    "2. These operators are basically used to provide sign to the operand.\n",
    "3. Some of the unary operators are +,-,~"
   ]
  },
  {
   "cell_type": "code",
   "execution_count": null,
   "metadata": {},
   "outputs": [],
   "source": [
    "x = 99"
   ]
  },
  {
   "cell_type": "code",
   "execution_count": null,
   "metadata": {},
   "outputs": [],
   "source": [
    "+x"
   ]
  },
  {
   "cell_type": "code",
   "execution_count": null,
   "metadata": {},
   "outputs": [],
   "source": [
    "-x"
   ]
  },
  {
   "attachments": {},
   "cell_type": "markdown",
   "metadata": {},
   "source": [
    "The invert(~) operator returns the bit-wise inversion of long integer.The bit-wise inversion of y can be computed as –(y+1)."
   ]
  },
  {
   "cell_type": "code",
   "execution_count": null,
   "metadata": {},
   "outputs": [],
   "source": [
    "~x"
   ]
  },
  {
   "attachments": {},
   "cell_type": "markdown",
   "metadata": {},
   "source": [
    "### Binary Operator\n",
    "Binary operators are operators with two operands that are manipulated to get the result.\n",
    "1. Syntax: Operand1 Operator Operand2\n",
    "1. Some binary operators are as follows: **, *, /, %, +, -, <<,>>, &, | ,^,<,>,<= ,>=, == ,!= ,<>"
   ]
  },
  {
   "attachments": {},
   "cell_type": "markdown",
   "metadata": {},
   "source": [
    "## Statement And Expression"
   ]
  },
  {
   "attachments": {},
   "cell_type": "markdown",
   "metadata": {},
   "source": [
    "### Statement\n",
    "A statement can be thought as an instruction"
   ]
  },
  {
   "cell_type": "code",
   "execution_count": null,
   "metadata": {},
   "outputs": [],
   "source": [
    "message = \"Hi Yarana\""
   ]
  },
  {
   "cell_type": "code",
   "execution_count": null,
   "metadata": {},
   "outputs": [],
   "source": [
    "print(1)"
   ]
  },
  {
   "cell_type": "code",
   "execution_count": null,
   "metadata": {},
   "outputs": [],
   "source": [
    "x = 2\n",
    "print(x)"
   ]
  },
  {
   "attachments": {},
   "cell_type": "markdown",
   "metadata": {},
   "source": [
    "#### Expression\n",
    "###### An expression is a combination of variables, operators, values and a reserve keyword."
   ]
  },
  {
   "cell_type": "code",
   "execution_count": null,
   "metadata": {},
   "outputs": [],
   "source": [
    "1+1"
   ]
  },
  {
   "cell_type": "code",
   "execution_count": null,
   "metadata": {},
   "outputs": [],
   "source": [
    "5+9"
   ]
  },
  {
   "attachments": {},
   "cell_type": "markdown",
   "metadata": {},
   "source": [
    "#### Evaluation Of Expression\n",
    "The evaluation of an expression produces a value. In an assignment statement, an expression is always there on the right side."
   ]
  },
  {
   "cell_type": "code",
   "execution_count": null,
   "metadata": {},
   "outputs": [],
   "source": [
    "2+5"
   ]
  },
  {
   "cell_type": "code",
   "execution_count": null,
   "metadata": {},
   "outputs": [],
   "source": [
    "message = \"Hi Yarana\"\n",
    "print(message)"
   ]
  },
  {
   "cell_type": "code",
   "execution_count": null,
   "metadata": {},
   "outputs": [],
   "source": [
    "message"
   ]
  },
  {
   "attachments": {},
   "cell_type": "markdown",
   "metadata": {},
   "source": [
    "The interpreter reads the expression and displays the string written in quotes as it is. When we type only program, we get the output ‘Hello Python.’ This is the term we typed when we assigned a value to the variable. When we use a print statement with program it gives the value of the variable, i.e., the value after removing quotes."
   ]
  },
  {
   "attachments": {},
   "cell_type": "markdown",
   "metadata": {},
   "source": [
    "## String Operations\n",
    "1. The contiguous set of characters kept within quotation marks in Python is termed string\n",
    "1. Either single quotes or double quotes can be used to represent strings\n",
    "1. Mathematical operations cannot be performed on the string even if we have numeral values in it\n",
    "1. We can do slicing(using [] and [:])\n",
    "1. We can also do concatenation(using + operator)\n",
    "1. We can do repetition(using * operator)"
   ]
  },
  {
   "cell_type": "code",
   "execution_count": null,
   "metadata": {},
   "outputs": [],
   "source": [
    "name = \"Yarana Kumar \""
   ]
  },
  {
   "cell_type": "code",
   "execution_count": null,
   "metadata": {},
   "outputs": [],
   "source": [
    "# String Concatenation\n",
    "gender = 'male'\n",
    "name + gender"
   ]
  },
  {
   "cell_type": "code",
   "execution_count": null,
   "metadata": {},
   "outputs": [],
   "source": [
    "# Repetition\n",
    "god = \"Ram\"\n",
    "god*3"
   ]
  },
  {
   "cell_type": "code",
   "execution_count": null,
   "metadata": {},
   "outputs": [],
   "source": [
    "# Get particular character\n",
    "name = \"Yarana\"\n",
    "name[1]"
   ]
  },
  {
   "cell_type": "code",
   "execution_count": null,
   "metadata": {},
   "outputs": [],
   "source": [
    "# Slicing\n",
    "name = \"Yarana\"\n",
    "name_short = name[0:4]"
   ]
  },
  {
   "cell_type": "code",
   "execution_count": null,
   "metadata": {},
   "outputs": [],
   "source": [
    "name_short"
   ]
  },
  {
   "cell_type": "code",
   "execution_count": null,
   "metadata": {},
   "outputs": [],
   "source": [
    "name[:2]"
   ]
  },
  {
   "cell_type": "code",
   "execution_count": null,
   "metadata": {},
   "outputs": [],
   "source": [
    "name[2:]"
   ]
  },
  {
   "cell_type": "code",
   "execution_count": null,
   "metadata": {},
   "outputs": [],
   "source": [
    "name[0:]"
   ]
  },
  {
   "cell_type": "code",
   "execution_count": null,
   "metadata": {},
   "outputs": [],
   "source": [
    "name[1:]"
   ]
  },
  {
   "cell_type": "code",
   "execution_count": null,
   "metadata": {},
   "outputs": [],
   "source": [
    "name[:-1]"
   ]
  },
  {
   "attachments": {},
   "cell_type": "markdown",
   "metadata": {},
   "source": [
    "Python also provides various in-built commands or methods for string operation\n",
    "1. .lower()  ===>  Convert all upper case letters into lower case.\n",
    "1. .upper()  ===>  Convert all lower case letters into upper case.\n",
    "1. .isalpha()  ===>  Return true if string contain only alphabetical characters.\n",
    "1. .isdigit()  ===>  Return true if string contain only digits characters.\n",
    "1. .isspace()  ===>  Return true if string contain space.\n",
    "1. .find(“string”)  ===>  Return the first index of search string.\n",
    "1. .replace(“ old”,”new”)  ===>  Replace the string with other string.\n",
    "1. .count(“character”)  ===>  Return the occurrence of particular character in string.\n",
    "1. len(“string”)  ===>  Return the length of string.\n"
   ]
  },
  {
   "cell_type": "code",
   "execution_count": null,
   "metadata": {},
   "outputs": [],
   "source": [
    "name = \"Yarana\"\n",
    "name.lower()"
   ]
  },
  {
   "cell_type": "code",
   "execution_count": null,
   "metadata": {},
   "outputs": [],
   "source": [
    "name.upper()"
   ]
  },
  {
   "cell_type": "code",
   "execution_count": null,
   "metadata": {},
   "outputs": [],
   "source": [
    "name.isalpha()"
   ]
  },
  {
   "cell_type": "code",
   "execution_count": null,
   "metadata": {},
   "outputs": [],
   "source": [
    "name.isdigit()"
   ]
  },
  {
   "cell_type": "code",
   "execution_count": null,
   "metadata": {},
   "outputs": [],
   "source": [
    "num3 = \"1\""
   ]
  },
  {
   "cell_type": "code",
   "execution_count": null,
   "metadata": {},
   "outputs": [],
   "source": [
    "num3.isdigit()"
   ]
  },
  {
   "cell_type": "code",
   "execution_count": null,
   "metadata": {},
   "outputs": [],
   "source": [
    "name.count('a')"
   ]
  },
  {
   "cell_type": "code",
   "execution_count": null,
   "metadata": {},
   "outputs": [],
   "source": [
    "full_name = \"Yarana Kumar\""
   ]
  },
  {
   "cell_type": "code",
   "execution_count": null,
   "metadata": {},
   "outputs": [],
   "source": [
    "full_name.isspace()"
   ]
  },
  {
   "cell_type": "code",
   "execution_count": null,
   "metadata": {},
   "outputs": [],
   "source": [
    "name.find('r')"
   ]
  },
  {
   "cell_type": "code",
   "execution_count": null,
   "metadata": {},
   "outputs": [],
   "source": [
    "name.replace(\"a\", \"A\")"
   ]
  },
  {
   "cell_type": "code",
   "execution_count": null,
   "metadata": {},
   "outputs": [],
   "source": [
    "name.count(\"Y\")"
   ]
  },
  {
   "cell_type": "code",
   "execution_count": null,
   "metadata": {},
   "outputs": [],
   "source": [
    "len(name)"
   ]
  },
  {
   "cell_type": "code",
   "execution_count": null,
   "metadata": {},
   "outputs": [],
   "source": [
    "len(\"Yarana\")"
   ]
  },
  {
   "attachments": {},
   "cell_type": "markdown",
   "metadata": {},
   "source": [
    "## Boolean Expression\n",
    "A Boolean expression may have only one of two values: TRUE or FALSE."
   ]
  },
  {
   "cell_type": "code",
   "execution_count": null,
   "metadata": {},
   "outputs": [],
   "source": [
    "type(True)"
   ]
  },
  {
   "cell_type": "code",
   "execution_count": null,
   "metadata": {},
   "outputs": [],
   "source": [
    "type(False)"
   ]
  },
  {
   "cell_type": "code",
   "execution_count": null,
   "metadata": {},
   "outputs": [],
   "source": [
    "5 == 6"
   ]
  },
  {
   "cell_type": "code",
   "execution_count": null,
   "metadata": {},
   "outputs": [],
   "source": [
    "5==5"
   ]
  },
  {
   "attachments": {},
   "cell_type": "markdown",
   "metadata": {},
   "source": [
    "# Control Statements"
   ]
  },
  {
   "attachments": {},
   "cell_type": "markdown",
   "metadata": {},
   "source": [
    "## for Loop"
   ]
  },
  {
   "cell_type": "code",
   "execution_count": null,
   "metadata": {},
   "outputs": [],
   "source": [
    "# Example\n",
    "for letter in \"Yarana\":\n",
    "    print(\"Alphabet: \", letter)"
   ]
  },
  {
   "cell_type": "code",
   "execution_count": null,
   "metadata": {},
   "outputs": [],
   "source": [
    "friend_list = [\"Yarana\", \"Yash\", \"Vishal\"]\n",
    "for name in friend_list:\n",
    "    print(name)"
   ]
  },
  {
   "cell_type": "code",
   "execution_count": null,
   "metadata": {},
   "outputs": [],
   "source": [
    "for x in range(7):\n",
    "    print(x)"
   ]
  },
  {
   "attachments": {},
   "cell_type": "markdown",
   "metadata": {},
   "source": [
    "### <span style=\"color:red\">**range()**</span> function\n",
    "The range() function in a built in function that helps us to iterate over a sequence of numbers "
   ]
  },
  {
   "cell_type": "code",
   "execution_count": null,
   "metadata": {},
   "outputs": [],
   "source": [
    "range(8)"
   ]
  },
  {
   "attachments": {},
   "cell_type": "markdown",
   "metadata": {},
   "source": [
    "range() function can also be passed with two arguments: begin and end"
   ]
  },
  {
   "cell_type": "code",
   "execution_count": null,
   "metadata": {},
   "outputs": [],
   "source": [
    "range(3, 9)"
   ]
  },
  {
   "attachments": {},
   "cell_type": "markdown",
   "metadata": {},
   "source": [
    "range(8) provides a sequence of numbers 0-7. That is to say, range(n) generates a sequence of numbers that starts with 0 and ends with (n-1)."
   ]
  },
  {
   "attachments": {},
   "cell_type": "markdown",
   "metadata": {},
   "source": [
    "We use another parameter, step, along with begin and end to create a difference of given step value"
   ]
  },
  {
   "cell_type": "code",
   "execution_count": null,
   "metadata": {},
   "outputs": [],
   "source": [
    "range(3, 40, 5)"
   ]
  },
  {
   "cell_type": "code",
   "execution_count": null,
   "metadata": {},
   "outputs": [],
   "source": [
    "for x in range(3, 40, 5):\n",
    "    print(x)"
   ]
  },
  {
   "cell_type": "code",
   "execution_count": null,
   "metadata": {},
   "outputs": [],
   "source": [
    "name = ['Yarana', 'Yash', 'Vishal']\n",
    "for index in range(len(name)):\n",
    "    print('Name: ', name[index])"
   ]
  },
  {
   "attachments": {},
   "cell_type": "markdown",
   "metadata": {},
   "source": [
    "## while Statement\n",
    "The while statement is used when you have a piece of code and you want to repeat it ‘n’ number of times or forever"
   ]
  },
  {
   "cell_type": "code",
   "execution_count": null,
   "metadata": {},
   "outputs": [],
   "source": [
    "count = 0\n",
    "while count < 7:\n",
    "    print(count)\n",
    "    count += 1"
   ]
  },
  {
   "attachments": {},
   "cell_type": "markdown",
   "metadata": {},
   "source": [
    "## break and continue Statements\n",
    "1. The break statement exits from the loop and transfers the execution from the loop to the statement that is immediately following the loop. \n",
    "2. The continue statement causes execution to immediately continue at the start of the loop, it skips the execution of the remaining body part of the loop."
   ]
  },
  {
   "cell_type": "code",
   "execution_count": null,
   "metadata": {},
   "outputs": [],
   "source": [
    "# Print first five even numbers\n",
    "count = 2\n",
    "while True:\n",
    "    print(count)\n",
    "    count += 2\n",
    "    if count >= 12:\n",
    "        break"
   ]
  },
  {
   "cell_type": "code",
   "execution_count": null,
   "metadata": {},
   "outputs": [],
   "source": [
    "# Print first four even numbers\n",
    "for i in range(1, 10):\n",
    "    if i % 2 == 0:\n",
    "        print(i)\n",
    "    else:\n",
    "        continue"
   ]
  },
  {
   "attachments": {},
   "cell_type": "markdown",
   "metadata": {},
   "source": [
    "## if elif else Statement\n"
   ]
  },
  {
   "cell_type": "code",
   "execution_count": null,
   "metadata": {},
   "outputs": [],
   "source": [
    "var = 100\n",
    "if var == 100:\n",
    "    print(\"The Value of Variable is 100\")"
   ]
  },
  {
   "attachments": {},
   "cell_type": "markdown",
   "metadata": {},
   "source": [
    "## Alternative Executions\n",
    "The alternative execution provides two possibilities. The condition determines which possibility is executed. If the condition is TRUE, the first block is executed but if condition is FALSE, another block of code is executed."
   ]
  },
  {
   "cell_type": "code",
   "execution_count": null,
   "metadata": {},
   "outputs": [],
   "source": [
    "x = 8\n",
    "if x % 2 == 0: print(\"Even Number\")\n",
    "else: print(\"Odd Number\")"
   ]
  },
  {
   "attachments": {},
   "cell_type": "markdown",
   "metadata": {},
   "source": [
    "## Conditional Execution\n",
    "Conditional statements are the statements that are generally used with some conditions"
   ]
  },
  {
   "attachments": {},
   "cell_type": "markdown",
   "metadata": {},
   "source": [
    "## ITERATION – while STATEMENT\n",
    "A while loop statement in Python programming language is the command that repeats a piece of code up to several times."
   ]
  },
  {
   "cell_type": "code",
   "execution_count": null,
   "metadata": {},
   "outputs": [],
   "source": [
    "count = 0\n",
    "while count < 9:\n",
    "    print('Count is :', count)\n",
    "    count += 1"
   ]
  },
  {
   "attachments": {},
   "cell_type": "markdown",
   "metadata": {},
   "source": [
    "# Input From Keyboard\n",
    "1. input() Function\n",
    "2. The first function for prompting the input from user in Python is through input() function."
   ]
  },
  {
   "cell_type": "code",
   "execution_count": null,
   "metadata": {},
   "outputs": [],
   "source": [
    "name = input('What is your Name?')\n",
    "print('Hello',name,'!')"
   ]
  },
  {
   "cell_type": "code",
   "execution_count": null,
   "metadata": {},
   "outputs": [],
   "source": [
    "type(name)"
   ]
  },
  {
   "attachments": {},
   "cell_type": "markdown",
   "metadata": {},
   "source": [
    "# Practice"
   ]
  },
  {
   "cell_type": "code",
   "execution_count": null,
   "metadata": {},
   "outputs": [],
   "source": [
    "# Write a Program to find the square root of a number\n",
    "x = int(input('Enter any Integer:'))\n",
    "sqrt_x = x**0.5\n",
    "print(sqrt_x)"
   ]
  },
  {
   "cell_type": "code",
   "execution_count": null,
   "metadata": {},
   "outputs": [],
   "source": [
    "# Write a program to find the area of a Rectangle\n",
    "l = int(input('Enter The Length Of Rectangle:'))\n",
    "b = int(input('Enter The Breadth Of Rectangle:'))\n",
    "area = l * b\n",
    "print('Area Of Rectangle:', area)"
   ]
  },
  {
   "cell_type": "code",
   "execution_count": null,
   "metadata": {},
   "outputs": [],
   "source": [
    "# Write a program to swap the values of two variables.\n",
    "num1 = int(input('Enter The Number 1:'))\n",
    "num2 = int(input('Enter The Number 2:'))\n",
    "print('Number Before Swapping Num1:',num1, ', Num2:', num2)\n",
    "temp = num1\n",
    "num1 = num2\n",
    "num2 = temp\n",
    "print('Number After Swapping Num1:',num1, ', Num2:', num2)"
   ]
  },
  {
   "cell_type": "code",
   "execution_count": null,
   "metadata": {},
   "outputs": [],
   "source": [
    "# Write a program to convert kilogram into pound.\n",
    "kg = int(input('Enter the value in kilogram:'))\n",
    "kg_to_pound =  2.20462\n",
    "pound = kg * kg_to_pound\n",
    "print(kg, 'kg = ',round(pound, 3), 'pound')"
   ]
  },
  {
   "cell_type": "code",
   "execution_count": null,
   "metadata": {},
   "outputs": [],
   "source": [
    "#  Write a program to find whether a number is even or odd\n",
    "num = int(input('Enter Any Number:'))\n",
    "if num % 2 == 0:\n",
    "    print('Even Number')\n",
    "else:\n",
    "    print('Odd Number')"
   ]
  },
  {
   "cell_type": "code",
   "execution_count": null,
   "metadata": {},
   "outputs": [],
   "source": [
    "# Write a program to check the largest among the given three numbers\n",
    "x = int(input('Enter The First Number:'))\n",
    "y = int(input('Enter The Second Number:'))\n",
    "z = int(input('Enter The Third Number:'))\n",
    "if x > y & x > z:\n",
    "    print(x, \"is largest\")\n",
    "elif y > z:\n",
    "    print(y, 'is largest')\n",
    "else:\n",
    "    print(z, 'is largest')"
   ]
  },
  {
   "cell_type": "code",
   "execution_count": null,
   "metadata": {},
   "outputs": [],
   "source": [
    "# Write a Python program to check if the input year is a leap year or not.\n",
    "year = int(input('Enter The Year:'))\n",
    "if year % 4 == 0 and year % 100 != 0 or year % 400 == 0:\n",
    "    print(year, 'is leap year')\n",
    "else:\n",
    "    print('Not a leap year')\n",
    "    "
   ]
  },
  {
   "cell_type": "code",
   "execution_count": null,
   "metadata": {},
   "outputs": [],
   "source": [
    "# Write a Python program to display the Fibonacci sequence for n terms\n",
    "n = int(input('Enter The Number Upto Which Fibonacci is to be printed:'))\n",
    "a, b = 0, 1\n",
    "while b < n:\n",
    "    print(b)\n",
    "    a, b = b, a + b"
   ]
  },
  {
   "cell_type": "code",
   "execution_count": null,
   "metadata": {},
   "outputs": [],
   "source": [
    "# Write a program to demonstrate While loop with else\n",
    "count = 0\n",
    "while count < 5:\n",
    "    print('Inside the while loop')\n",
    "    count += 1\n",
    "else:\n",
    "    print('Inside the else statement')"
   ]
  },
  {
   "cell_type": "code",
   "execution_count": null,
   "metadata": {},
   "outputs": [],
   "source": [
    "# Write a Python program to print the prime numbers for a user provided range\n",
    "lower = int(input('Enter The Lower Range'))\n",
    "upper = int(input('Enter The Upper Range'))\n",
    "for n in range(lower, upper):\n",
    "    if n > 1:\n",
    "        for i in range(2, n):\n",
    "            if n % i == 0:\n",
    "                break\n",
    "        else:\n",
    "            print(n)"
   ]
  },
  {
   "attachments": {},
   "cell_type": "markdown",
   "metadata": {},
   "source": [
    "# Functions\n",
    "Functions are self-contained programs that perform some particular tasks. There are many advantages of using functions:\n",
    "1. They reduce duplication of code in a program.\n",
    "1. They break the large complex problems into small parts.\n",
    "1. They help in improving the clarity of code (i.e., make the code easy to understand).\n",
    "1. A piece of code can be reused as many times as we want with the help of functions."
   ]
  },
  {
   "attachments": {},
   "cell_type": "markdown",
   "metadata": {},
   "source": [
    "## Built in Function\n",
    "Built-in functions are the functions already defined in the Python programming language"
   ]
  },
  {
   "attachments": {},
   "cell_type": "markdown",
   "metadata": {},
   "source": [
    "<span style=\"color:red\">**Type Conversion**</span>: There are some built-in functions in the Python programming language that can convert one type of data into another type"
   ]
  },
  {
   "cell_type": "code",
   "execution_count": null,
   "metadata": {},
   "outputs": [],
   "source": [
    "# Example\n",
    "int(5.5)"
   ]
  },
  {
   "cell_type": "code",
   "execution_count": null,
   "metadata": {},
   "outputs": [],
   "source": [
    "int('Yarana')"
   ]
  },
  {
   "cell_type": "code",
   "execution_count": null,
   "metadata": {},
   "outputs": [],
   "source": [
    "float(45)"
   ]
  },
  {
   "cell_type": "code",
   "execution_count": null,
   "metadata": {},
   "outputs": [],
   "source": [
    "float('5')"
   ]
  },
  {
   "cell_type": "code",
   "execution_count": null,
   "metadata": {},
   "outputs": [],
   "source": [
    "int('4.5')"
   ]
  },
  {
   "cell_type": "code",
   "execution_count": null,
   "metadata": {},
   "outputs": [],
   "source": [
    "str(67)"
   ]
  },
  {
   "cell_type": "code",
   "execution_count": null,
   "metadata": {},
   "outputs": [],
   "source": [
    "print('Yarana' + 19)"
   ]
  },
  {
   "attachments": {},
   "cell_type": "markdown",
   "metadata": {},
   "source": [
    "## Type Coercion\n",
    "<span style=\"color:red\">**Type Coercion**</span> is a process through which the Python interpreter automatically converts a value of one type into a value of another type according to the requirement\n",
    "1. Implicit conversion is also known as type coercion and is automatically done by the interpreter"
   ]
  },
  {
   "cell_type": "code",
   "execution_count": null,
   "metadata": {},
   "outputs": [],
   "source": [
    "minute = 59\n",
    "float(minute)/60"
   ]
  },
  {
   "attachments": {},
   "cell_type": "markdown",
   "metadata": {},
   "source": [
    "Alternatively, we can take advantage of type coercion process in Python. For the mathematical operators, if either operand is a float, the other is automatically converted to float:"
   ]
  },
  {
   "cell_type": "code",
   "execution_count": null,
   "metadata": {},
   "outputs": [],
   "source": [
    "# Example\n",
    "minute = 59\n",
    "minute / 60"
   ]
  },
  {
   "attachments": {},
   "cell_type": "markdown",
   "metadata": {},
   "source": [
    "## Mathematicals Function\n",
    "1. Python provides us a Math module that contains most of the familiar and important mathematical functions.\n",
    "1. Before using a module in Python, we have to import it."
   ]
  },
  {
   "cell_type": "code",
   "execution_count": null,
   "metadata": {},
   "outputs": [],
   "source": [
    "import math"
   ]
  },
  {
   "cell_type": "code",
   "execution_count": null,
   "metadata": {},
   "outputs": [],
   "source": [
    "print(math)"
   ]
  },
  {
   "attachments": {},
   "cell_type": "markdown",
   "metadata": {},
   "source": [
    "There are many predefined functions and variables that reside under the module object. To access these functions, we have to write the name of the module followed by a dot (.) (this dot is also known as a period) followed by the function name"
   ]
  },
  {
   "cell_type": "code",
   "execution_count": null,
   "metadata": {},
   "outputs": [],
   "source": [
    "decibel = 10 * math.log10(18.0)\n",
    "decibel"
   ]
  },
  {
   "cell_type": "code",
   "execution_count": null,
   "metadata": {},
   "outputs": [],
   "source": [
    "angle = 2.5\n",
    "height = math.sin(angle)\n",
    "print(height)"
   ]
  },
  {
   "cell_type": "code",
   "execution_count": null,
   "metadata": {},
   "outputs": [],
   "source": [
    "# Find cos of 45 degree \n",
    "degree = 45\n",
    "angle = degree * 2 * math.pi/360\n",
    "print(math.cos(angle))"
   ]
  },
  {
   "attachments": {},
   "cell_type": "markdown",
   "metadata": {},
   "source": [
    "## Date and Time\n",
    "Python provides the built-in modules time and calendar through which we can handle date and time in several ways."
   ]
  },
  {
   "attachments": {},
   "cell_type": "markdown",
   "metadata": {},
   "source": [
    "### Getting current date and time"
   ]
  },
  {
   "cell_type": "code",
   "execution_count": null,
   "metadata": {},
   "outputs": [],
   "source": [
    "import time"
   ]
  },
  {
   "cell_type": "code",
   "execution_count": null,
   "metadata": {},
   "outputs": [],
   "source": [
    "print(time.localtime())"
   ]
  },
  {
   "cell_type": "code",
   "execution_count": null,
   "metadata": {},
   "outputs": [],
   "source": [
    "time.localtime(time.time())"
   ]
  },
  {
   "attachments": {},
   "cell_type": "markdown",
   "metadata": {},
   "source": [
    "### Getting formatted date and time\n",
    "The most common method used to get time in readable format is asctime()."
   ]
  },
  {
   "cell_type": "code",
   "execution_count": null,
   "metadata": {},
   "outputs": [],
   "source": [
    "time.asctime()"
   ]
  },
  {
   "attachments": {},
   "cell_type": "markdown",
   "metadata": {},
   "source": [
    "### Getting calender for a month\n",
    "Python provides us a calendar module through which we can use yearly and monthly calendars according to our requirements"
   ]
  },
  {
   "cell_type": "code",
   "execution_count": null,
   "metadata": {},
   "outputs": [],
   "source": [
    "import calendar"
   ]
  },
  {
   "attachments": {},
   "cell_type": "markdown",
   "metadata": {},
   "source": [
    "We can print the calendar of any month using calendar module using function calendar.month()"
   ]
  },
  {
   "cell_type": "code",
   "execution_count": null,
   "metadata": {},
   "outputs": [],
   "source": [
    "c = calendar.month(2022, 10)\n",
    "print('This is  calendar of july 2022\\n', c)"
   ]
  },
  {
   "attachments": {},
   "cell_type": "markdown",
   "metadata": {},
   "source": [
    "## dir() function\n",
    "dir() takes an object as an argument. It returns a list of strings which are names of members of that object"
   ]
  },
  {
   "cell_type": "code",
   "execution_count": null,
   "metadata": {},
   "outputs": [],
   "source": [
    "import math\n",
    "list = dir(math)\n",
    "print('Math Module contains:\\n',list)"
   ]
  },
  {
   "attachments": {},
   "cell_type": "markdown",
   "metadata": {},
   "source": [
    "## help() function\n",
    "help() function is a built-in function in Python Programming Language which is used to invoke the help system."
   ]
  },
  {
   "cell_type": "code",
   "execution_count": null,
   "metadata": {},
   "outputs": [],
   "source": [
    "import math\n",
    "help(math.fsum)\n",
    "help(math.sin)"
   ]
  },
  {
   "attachments": {},
   "cell_type": "markdown",
   "metadata": {},
   "source": [
    "## Composition Of Functions"
   ]
  },
  {
   "attachments": {},
   "cell_type": "markdown",
   "metadata": {},
   "source": [
    "f(g(x)) = f o g(x)"
   ]
  },
  {
   "attachments": {},
   "cell_type": "markdown",
   "metadata": {},
   "source": [
    "We can use function inside function"
   ]
  },
  {
   "cell_type": "code",
   "execution_count": null,
   "metadata": {},
   "outputs": [],
   "source": [
    "import math\n",
    "x = math.exp(math.log10(10))\n",
    "print(x)"
   ]
  },
  {
   "cell_type": "code",
   "execution_count": null,
   "metadata": {},
   "outputs": [],
   "source": [
    "# Write a program to print the calendar for the month of March, 1991.\n",
    "import calendar\n",
    "mar_1991 = calendar.month(1991, 3)\n",
    "print(mar_1991)"
   ]
  },
  {
   "attachments": {},
   "cell_type": "markdown",
   "metadata": {},
   "source": [
    "\n",
    "## User Defined Function"
   ]
  },
  {
   "attachments": {},
   "cell_type": "markdown",
   "metadata": {},
   "source": [
    "1. Python also allows users to define their own functions. \n",
    "1. To use our own functions in Python, users have to define the function first; this is known as Function Definition. \n",
    "1. In a function definition, users have to define a name for the new function and also the list of the statements that will execute when the function will be called.\n",
    "1. Syntax : def function_name(): Statements_to_be_executed"
   ]
  },
  {
   "cell_type": "code",
   "execution_count": null,
   "metadata": {},
   "outputs": [],
   "source": [
    "def print_lines():\n",
    "    print(\"Hello World\")\n",
    "    print(\"Let's Go\")"
   ]
  },
  {
   "cell_type": "code",
   "execution_count": null,
   "metadata": {},
   "outputs": [],
   "source": [
    "print_lines()\n",
    "print()"
   ]
  },
  {
   "attachments": {},
   "cell_type": "markdown",
   "metadata": {},
   "source": [
    "1. No predefined keywords can be used as name of function\n",
    "1. The first line in the definition of function is known as header and the rest is abbreviated as body. The header line will always end with a colon\n",
    "1. When we define a function, Python interpreter also creates a variable with the same name."
   ]
  },
  {
   "cell_type": "code",
   "execution_count": null,
   "metadata": {},
   "outputs": [],
   "source": [
    "type(print_lines)"
   ]
  },
  {
   "cell_type": "code",
   "execution_count": null,
   "metadata": {},
   "outputs": [],
   "source": [
    "# This is how we call a function within another function\n",
    "def new_print():\n",
    "    print_lines()\n",
    "    print_lines()"
   ]
  },
  {
   "cell_type": "code",
   "execution_count": null,
   "metadata": {},
   "outputs": [],
   "source": [
    "new_print()\n",
    "print()"
   ]
  },
  {
   "attachments": {},
   "cell_type": "markdown",
   "metadata": {},
   "source": [
    "### Parameteres And Arguments\n",
    "1. Parameters and arguments are the values or expressions passed to the functions between parentheses.\n",
    "1. The value of the argument is always assigned to a variable known as parameter\n",
    "1. At the time of function definition, we have to define some parameters if that function requires some arguments to be passed at the time of calling."
   ]
  },
  {
   "cell_type": "code",
   "execution_count": null,
   "metadata": {},
   "outputs": [],
   "source": [
    "def print_lines(line):\n",
    "    print(line)\n",
    "    print(line)"
   ]
  },
  {
   "attachments": {},
   "cell_type": "markdown",
   "metadata": {},
   "source": [
    "In the above function we have defined a variable line which is a parameter. Now, when the function is called, it prints the value of the parameter line twice."
   ]
  },
  {
   "cell_type": "code",
   "execution_count": null,
   "metadata": {},
   "outputs": [],
   "source": [
    "print_lines('Yarana')"
   ]
  },
  {
   "cell_type": "code",
   "execution_count": null,
   "metadata": {},
   "outputs": [],
   "source": [
    "print_lines(17)"
   ]
  },
  {
   "attachments": {},
   "cell_type": "markdown",
   "metadata": {},
   "source": [
    "There can be four types of formal arguments using which a function can be called which are as follows:\n",
    "1. Required arguments\n",
    "2. Keyword arguments\n",
    "3. Default arguments\n",
    "4. Variable-length arguments"
   ]
  },
  {
   "attachments": {},
   "cell_type": "markdown",
   "metadata": {},
   "source": [
    "### Required arguments"
   ]
  },
  {
   "cell_type": "code",
   "execution_count": null,
   "metadata": {},
   "outputs": [],
   "source": [
    "def print_lines(str):\n",
    "    print(str)\n",
    "    return"
   ]
  },
  {
   "cell_type": "code",
   "execution_count": null,
   "metadata": {},
   "outputs": [],
   "source": [
    "print_lines()"
   ]
  },
  {
   "attachments": {},
   "cell_type": "markdown",
   "metadata": {},
   "source": [
    "### Keyword arguments"
   ]
  },
  {
   "cell_type": "code",
   "execution_count": null,
   "metadata": {},
   "outputs": [],
   "source": [
    "def print_info(name, age):\n",
    "    print('Name: ', name)\n",
    "    print('Age: ', age)"
   ]
  },
  {
   "cell_type": "code",
   "execution_count": null,
   "metadata": {},
   "outputs": [],
   "source": [
    "print_info('Yarana', 19)"
   ]
  },
  {
   "attachments": {},
   "cell_type": "markdown",
   "metadata": {},
   "source": [
    "### Default arguments"
   ]
  },
  {
   "cell_type": "code",
   "execution_count": null,
   "metadata": {},
   "outputs": [],
   "source": [
    "def print_info(name, age = 19):\n",
    "    print('Name: ', name)\n",
    "    print('Age: ', age)"
   ]
  },
  {
   "cell_type": "code",
   "execution_count": null,
   "metadata": {},
   "outputs": [],
   "source": [
    "print_info('Yarana')"
   ]
  },
  {
   "cell_type": "code",
   "execution_count": null,
   "metadata": {},
   "outputs": [],
   "source": [
    "print_info(name = 'Vishal', age = 18)"
   ]
  },
  {
   "cell_type": "code",
   "execution_count": null,
   "metadata": {},
   "outputs": [],
   "source": [
    "print_info(name = 'Yash')"
   ]
  },
  {
   "attachments": {},
   "cell_type": "markdown",
   "metadata": {},
   "source": [
    "### Variable-length arguments"
   ]
  },
  {
   "cell_type": "code",
   "execution_count": null,
   "metadata": {},
   "outputs": [],
   "source": [
    "def print_info(arg1, *vartuple):\n",
    "    print('The Result is', arg1)\n",
    "    for var in vartuple:\n",
    "        print(var)\n",
    "        return"
   ]
  },
  {
   "cell_type": "code",
   "execution_count": null,
   "metadata": {},
   "outputs": [],
   "source": [
    "print_info(10)"
   ]
  },
  {
   "cell_type": "code",
   "execution_count": null,
   "metadata": {},
   "outputs": [],
   "source": [
    "print_info(10,20)"
   ]
  },
  {
   "attachments": {},
   "cell_type": "markdown",
   "metadata": {},
   "source": [
    "Write a function that takes exactly two arguments. One argument is the name of the student, the other argument is fees and a default fee is 25000. Display at least two outputs in support of your answer."
   ]
  },
  {
   "cell_type": "code",
   "execution_count": null,
   "metadata": {},
   "outputs": [],
   "source": [
    "def student_fee(name, fees):\n",
    "    print('Name: ', name)\n",
    "    print('Fee: ', fees)"
   ]
  },
  {
   "cell_type": "code",
   "execution_count": null,
   "metadata": {},
   "outputs": [],
   "source": [
    "student_fee('Yarana', 26000)"
   ]
  },
  {
   "cell_type": "code",
   "execution_count": null,
   "metadata": {},
   "outputs": [],
   "source": [
    "student_fee(name = 'Yarana Kumar', fees = 26000)"
   ]
  },
  {
   "attachments": {},
   "cell_type": "markdown",
   "metadata": {},
   "source": [
    "## Functions Calls\n",
    "1. A function is called using the name with which it was defined earlier, followed by a pair of parentheses (()). \n",
    "1. Any input parameters or arguments are to be placed within these calling parentheses.\n",
    "1. All parameters (arguments) which are passed in functions are always passed by reference in Python"
   ]
  },
  {
   "cell_type": "code",
   "execution_count": null,
   "metadata": {},
   "outputs": [],
   "source": [
    "# Function definition\n",
    "def print_string(str):\n",
    "    print(str)"
   ]
  },
  {
   "cell_type": "code",
   "execution_count": null,
   "metadata": {},
   "outputs": [],
   "source": [
    "# Calling the above unction\n",
    "print_string('Hii Vibe')"
   ]
  },
  {
   "cell_type": "code",
   "execution_count": null,
   "metadata": {},
   "outputs": [],
   "source": [
    "print_string('Yarana Kumar')"
   ]
  },
  {
   "cell_type": "code",
   "execution_count": null,
   "metadata": {},
   "outputs": [],
   "source": [
    "# Multiplication of 2 numbers using functions\n",
    "# Function definition\n",
    "def mul(x, y):\n",
    "    print('Product: ', x*y)"
   ]
  },
  {
   "cell_type": "code",
   "execution_count": null,
   "metadata": {},
   "outputs": [],
   "source": [
    "# Function Calling\n",
    "mul(5, 6)"
   ]
  },
  {
   "cell_type": "code",
   "execution_count": null,
   "metadata": {},
   "outputs": [],
   "source": [
    "a = 9\n",
    "b = 999\n",
    "mul(a, b)"
   ]
  },
  {
   "cell_type": "code",
   "execution_count": null,
   "metadata": {},
   "outputs": [],
   "source": [
    "#  Write a function which accepts two numbers and returns their sum.\n",
    "# Function definition\n",
    "def addition(x, y):\n",
    "    print('Sum: ', x + y)"
   ]
  },
  {
   "cell_type": "code",
   "execution_count": null,
   "metadata": {},
   "outputs": [],
   "source": [
    "# Function Calling\n",
    "addition(6, 7)"
   ]
  },
  {
   "attachments": {},
   "cell_type": "markdown",
   "metadata": {},
   "source": [
    "## The return Statement\n",
    "1. The return statement is used to exit a function.\n",
    "1. A function may or may not return a value. If a function returns a value, it is passed back by the return statement as argument to the caller. \n",
    "1. If it does not return a value, we simply write return with no arguments"
   ]
  },
  {
   "cell_type": "code",
   "execution_count": null,
   "metadata": {},
   "outputs": [],
   "source": [
    "def mul_3(a, b, c):\n",
    "    product_3 = a*b*c\n",
    "    return product_3"
   ]
  },
  {
   "cell_type": "code",
   "execution_count": null,
   "metadata": {},
   "outputs": [],
   "source": [
    "mul_3(9,9,9)"
   ]
  },
  {
   "attachments": {},
   "cell_type": "markdown",
   "metadata": {},
   "source": [
    "## Python Recursive Function\n",
    "Recursion is generally understood to be the process of repeating something in self similar way"
   ]
  },
  {
   "cell_type": "code",
   "execution_count": null,
   "metadata": {},
   "outputs": [],
   "source": [
    "# Function definition for factorial\n",
    "def fact_rec(x):\n",
    "    if x == 1:\n",
    "        return 1\n",
    "    else:\n",
    "        return(x * fact_rec(x-1))"
   ]
  },
  {
   "cell_type": "code",
   "execution_count": null,
   "metadata": {},
   "outputs": [],
   "source": [
    "# Function Calling\n",
    "# Finding factorial of 10\n",
    "fact_rec(10)"
   ]
  },
  {
   "cell_type": "code",
   "execution_count": null,
   "metadata": {},
   "outputs": [],
   "source": [
    "fact_rec(4)"
   ]
  },
  {
   "attachments": {},
   "cell_type": "markdown",
   "metadata": {},
   "source": [
    "## The Anonymous functions\n",
    "1. The anonymous functions are the functions created using a lambda keyword. They are not defined by using def keyword. For this reason, they are called anonymous functions.\n",
    "1. We can pass any number of arguments to a lambda form functions, but still they return only one value in the form of expression\n",
    "1. An anonymous function cannot directly call print command as the lambda needs an expression. It cannot access the parameters that are not defined in its own namespace. \n",
    "1. An anonymous function is a single line statement function."
   ]
  },
  {
   "attachments": {},
   "cell_type": "markdown",
   "metadata": {},
   "source": [
    "##### Syntax: lambda [arg1[,arg2,......argn]]:expression"
   ]
  },
  {
   "cell_type": "code",
   "execution_count": null,
   "metadata": {},
   "outputs": [],
   "source": [
    "# Function Definition\n",
    "mult = lambda val1 , val2 : val1*val2"
   ]
  },
  {
   "cell_type": "code",
   "execution_count": null,
   "metadata": {},
   "outputs": [],
   "source": [
    "# Function Calling\n",
    "mult(2, 9)"
   ]
  },
  {
   "cell_type": "code",
   "execution_count": null,
   "metadata": {},
   "outputs": [],
   "source": [
    "# Write a function called ninelines that uses a function threelines to print nine blank lines. Print twenty seven new lines using this.\n",
    "def three_lines():\n",
    "    print()\n",
    "    print()\n",
    "    print()"
   ]
  },
  {
   "cell_type": "code",
   "execution_count": null,
   "metadata": {},
   "outputs": [],
   "source": [
    "# Defining function to print 9 lines using three_lines() function\n",
    "def nine_lines():\n",
    "    three_lines()\n",
    "    three_lines()\n",
    "    three_lines()"
   ]
  },
  {
   "cell_type": "code",
   "execution_count": null,
   "metadata": {},
   "outputs": [],
   "source": [
    "# Printing 9 blanks line\n",
    "nine_lines()"
   ]
  },
  {
   "cell_type": "code",
   "execution_count": null,
   "metadata": {},
   "outputs": [],
   "source": [
    "# Defining function to print 27 lines using nine_lines() function\n",
    "def twentseven_lines():\n",
    "    nine_lines()\n",
    "    nine_lines()\n",
    "    nine_lines()"
   ]
  },
  {
   "cell_type": "code",
   "execution_count": null,
   "metadata": {},
   "outputs": [],
   "source": [
    "# Printing 27 blank lines\n",
    "twentseven_lines()"
   ]
  },
  {
   "attachments": {},
   "cell_type": "markdown",
   "metadata": {},
   "source": [
    "## Writing Python Scripts\n",
    "1. Python script is usually saved with extension ‘.py’. Python code in a file is also called a module\n",
    "1. The first line starts with #! Is known as ‘interpreter descriptor’ or ‘shebang’ as short form of ‘sharp bang’.\n",
    "1. Comment section starts with a ‘#’ which is optional. Here we can add details about our script\n",
    "1. Docstring is the section where we document your script. Here we can mention how to use script\n",
    "1. Import section and from import section is the right place for adding import statements for importing needed other modules or functions into this script.\n",
    "1. main() is a good place to put all the high level code for solving the problem\n",
    "1. The last section will be common in all script. It invokes the main function only if the module is executed as a script.\n",
    "1. It prevents the execution of main function when the module is imported in other scripts."
   ]
  },
  {
   "cell_type": "code",
   "execution_count": null,
   "metadata": {},
   "outputs": [],
   "source": [
    "#! /usr/bin/python \n",
    "# Program for finding out Logarithm of a given number\n",
    "\"\"\"\n",
    " Program for finding Logarithm of a number.\n",
    " Usage: \n",
    " \n",
    " $ python logme.py\n",
    " Welcome, this script allows you to find log of a number!\n",
    " Enter a number: 100\n",
    " Log of 100 is 2.0\n",
    " Thank you!\n",
    "\"\"\"\n",
    "from math import log10\n",
    "def main():\n",
    "    \"reads a number from user and finds log of it\"\n",
    "    \n",
    "    print('Welcome, this script allows you to find log of a number!')\n",
    "    \n",
    "    try:\n",
    "        number = int(input('Enter a number: ')) \n",
    "    except ValueError:\n",
    "       print('Error: given input is not valid, please enter a number.')\n",
    "       return\n",
    "    \n",
    "    result = log10(number)\n",
    "    print('Log of', number, 'is', result)\n",
    "    print('Thank you!')\n",
    " \n",
    " \n",
    "if __name__== '__main__':\n",
    "    main()\n",
    " \n",
    "#The End!\n"
   ]
  },
  {
   "attachments": {},
   "cell_type": "markdown",
   "metadata": {},
   "source": [
    "### Questions"
   ]
  },
  {
   "cell_type": "code",
   "execution_count": null,
   "metadata": {},
   "outputs": [],
   "source": [
    "# Write a function to find the HCF of some given numbers.\n",
    "def hcf(a, b):\n",
    "    if a > b:\n",
    "        small = b\n",
    "    else:\n",
    "        small = a\n",
    "    for i in range(1, small + 1):\n",
    "        if((a % i == 0) and (b % i == 0)):\n",
    "            hcf = i\n",
    "    return hcf"
   ]
  },
  {
   "cell_type": "code",
   "execution_count": null,
   "metadata": {},
   "outputs": [],
   "source": [
    "hcf(5, 6)"
   ]
  },
  {
   "cell_type": "code",
   "execution_count": null,
   "metadata": {},
   "outputs": [],
   "source": [
    "hcf(5,5)"
   ]
  },
  {
   "cell_type": "code",
   "execution_count": null,
   "metadata": {},
   "outputs": [],
   "source": [
    "hcf(15, 20)"
   ]
  },
  {
   "cell_type": "code",
   "execution_count": null,
   "metadata": {},
   "outputs": [],
   "source": [
    "# Write a function to display the factors of a given number.\n",
    "def factor(x):\n",
    "    for i in range(1, x-1):\n",
    "        if x % i == 0:\n",
    "            print(i)"
   ]
  },
  {
   "cell_type": "code",
   "execution_count": null,
   "metadata": {},
   "outputs": [],
   "source": [
    "factor(5)"
   ]
  },
  {
   "cell_type": "code",
   "execution_count": null,
   "metadata": {},
   "outputs": [],
   "source": [
    "factor(44)"
   ]
  },
  {
   "cell_type": "code",
   "execution_count": null,
   "metadata": {},
   "outputs": [],
   "source": [
    "# Write a function to find the ASCII value of the character.\n",
    "def ascii_value_of(a):\n",
    "    print('ASCII value of', a, 'is', ord(a))"
   ]
  },
  {
   "cell_type": "code",
   "execution_count": null,
   "metadata": {},
   "outputs": [],
   "source": [
    "ascii_value_of('A')"
   ]
  },
  {
   "cell_type": "code",
   "execution_count": null,
   "metadata": {},
   "outputs": [],
   "source": [
    "ascii_value_of('1')"
   ]
  },
  {
   "cell_type": "code",
   "execution_count": null,
   "metadata": {},
   "outputs": [],
   "source": [
    "# Write a function to display Fibonacci sequence using recursion\n",
    "def fib(x):\n",
    "    a, b = 0, 1\n",
    "    while (b < x):\n",
    "        print(b)\n",
    "        a, b = b, a + b\n"
   ]
  },
  {
   "cell_type": "code",
   "execution_count": null,
   "metadata": {},
   "outputs": [],
   "source": [
    "fib(5)"
   ]
  },
  {
   "cell_type": "code",
   "execution_count": null,
   "metadata": {},
   "outputs": [],
   "source": [
    "fib(100)"
   ]
  },
  {
   "cell_type": "code",
   "execution_count": null,
   "metadata": {},
   "outputs": [],
   "source": [
    "# Write a function to find the sum of several natural numbers using recursion\n",
    "def sum_natural(n):\n",
    "    if n == 1:\n",
    "        return 1\n",
    "    else:\n",
    "        return n + sum_natural(n-1)"
   ]
  },
  {
   "cell_type": "code",
   "execution_count": null,
   "metadata": {},
   "outputs": [],
   "source": [
    "sum_natural(100)"
   ]
  },
  {
   "cell_type": "code",
   "execution_count": null,
   "metadata": {},
   "outputs": [],
   "source": [
    "# A Python Program that demonstrates the built-in functions\n",
    "number = float(input('Enter Any Number: '))\n",
    "print('Rounded Value: ', round(number))"
   ]
  },
  {
   "cell_type": "code",
   "execution_count": null,
   "metadata": {},
   "outputs": [],
   "source": [
    "import math\n",
    "number = int(input('Enter Any Number: '))\n",
    "print('Square Root: ', math.sqrt(number))\n",
    "print('Exponential: ', math.exp(number))\n",
    "print('Factorial: ', math.factorial(number))\n"
   ]
  },
  {
   "cell_type": "code",
   "execution_count": null,
   "metadata": {},
   "outputs": [],
   "source": [
    "#  A python program to print the current directory\n",
    "import os\n",
    "import sys\n",
    "print('Current Directory Path:', os.getcwd())\n",
    "# Printing file in current directory\n",
    "print('Current Directory Contains: ')\n",
    "for i in os.listdir():\n",
    "    print(i)\n"
   ]
  },
  {
   "cell_type": "code",
   "execution_count": null,
   "metadata": {},
   "outputs": [],
   "source": [
    "#  A Python program to implement recursion for factorial of a number that demonstrates the user defined function and return statement.\n",
    "def fact(x):\n",
    "    if x == 1:\n",
    "        return x\n",
    "    else:\n",
    "        return x * fact(x-1)\n",
    "\n",
    "num = int(input('Enter The Number:'))\n",
    "if num < 0:\n",
    "    print('Enter Number Greater Than 0!')\n",
    "elif num == 1:\n",
    "    print(\"Factorial:\", num)\n",
    "else:\n",
    "    print('Factorial:', fact(num))"
   ]
  },
  {
   "cell_type": "code",
   "execution_count": null,
   "metadata": {},
   "outputs": [],
   "source": [
    "#  Write a function which accepts three numbers and returns their multiplication.\n",
    "def mul(a,b,c):\n",
    "    return a*b*c\n",
    "\n",
    "mul(2,3,4)"
   ]
  },
  {
   "cell_type": "code",
   "execution_count": null,
   "metadata": {},
   "outputs": [],
   "source": [
    "#  Write a function which can take any number value and convert it into an integer, float and string\n",
    "def converter(num):\n",
    "    print(\"Integer:\",int(num))\n",
    "    print(\"Float:\",float(num))\n",
    "    print(\"String:\",str(num))\n",
    "\n",
    "converter(5.7)"
   ]
  },
  {
   "cell_type": "code",
   "execution_count": null,
   "metadata": {},
   "outputs": [],
   "source": [
    "# Write a function that takes exactly two arguments. One argument is the name of the employee, and the other argument is the PF. \n",
    "# The default PF is 30000. Display at least two outputs in support of your answer\n",
    "def emp(name,pf):\n",
    "    print(\"Name:\", name, \"\\nPF:\",pf)\n",
    "\n",
    "pf = 30000\n",
    "emp(\"Yarana\", pf)\n",
    "emp(\"Yash\", pf)"
   ]
  },
  {
   "cell_type": "code",
   "execution_count": null,
   "metadata": {},
   "outputs": [],
   "source": [
    "# Write a function called sixteenlines that uses fourlines to print sixteen blank lines. Print sixty four new lines using this\n"
   ]
  },
  {
   "cell_type": "code",
   "execution_count": null,
   "metadata": {},
   "outputs": [],
   "source": [
    "def fourlines():\n",
    "    print()\n",
    "    print()\n",
    "    print()\n",
    "    print()"
   ]
  },
  {
   "cell_type": "code",
   "execution_count": null,
   "metadata": {},
   "outputs": [],
   "source": [
    "def sixteenlines():\n",
    "    fourlines()\n",
    "    fourlines()\n",
    "    fourlines()\n",
    "    fourlines()"
   ]
  },
  {
   "cell_type": "code",
   "execution_count": null,
   "metadata": {},
   "outputs": [],
   "source": [
    "sixteenlines()"
   ]
  },
  {
   "cell_type": "code",
   "execution_count": null,
   "metadata": {},
   "outputs": [],
   "source": [
    "def sixtyfourlines():\n",
    "    sixteenlines()\n",
    "    sixteenlines()\n",
    "    sixteenlines()\n",
    "    sixteenlines()"
   ]
  },
  {
   "cell_type": "code",
   "execution_count": null,
   "metadata": {},
   "outputs": [],
   "source": [
    "sixtyfourlines()"
   ]
  },
  {
   "attachments": {},
   "cell_type": "markdown",
   "metadata": {},
   "source": [
    "# Strings\n",
    "1. Strings are immutable. If you want to change an element of a string, you have to create a new string.\n",
    "2. Strings are of literal or scalar type. The Python interpreter treats them as a single value"
   ]
  },
  {
   "cell_type": "code",
   "execution_count": null,
   "metadata": {},
   "outputs": [],
   "source": [
    "var1 = 'Hello'\n",
    "var2 = \"Hello\"\n",
    "var3 = \"\"\"This Is Triple Quoted Line\"\"\""
   ]
  },
  {
   "cell_type": "code",
   "execution_count": null,
   "metadata": {},
   "outputs": [],
   "source": [
    "print(var1)\n",
    "print(var2)\n",
    "print(var3)"
   ]
  },
  {
   "cell_type": "code",
   "execution_count": null,
   "metadata": {},
   "outputs": [],
   "source": [
    "var4 = \"\"\"Hi\n",
    "Yarana\n",
    "How\n",
    "Are\n",
    "You\"\"\""
   ]
  },
  {
   "cell_type": "code",
   "execution_count": null,
   "metadata": {},
   "outputs": [],
   "source": [
    "print(var4)"
   ]
  },
  {
   "attachments": {},
   "cell_type": "markdown",
   "metadata": {},
   "source": [
    "## Compund Data Type\n",
    "1. The data types that are made up of smaller pieces are known as compound data types.\n",
    "1. Strings are made up of smaller pieces/characters\n",
    "1. Strings, in Python, can be used as a single data type, or, alternatively, can be accessed in parts\n",
    "1. In order to access a part of the string, a square bracket operator ([]) must be used."
   ]
  },
  {
   "cell_type": "code",
   "execution_count": null,
   "metadata": {},
   "outputs": [],
   "source": [
    "string = \"Hello\"\n",
    "# Printing 5th letter of string\n",
    "letter = string[4]\n",
    "print(letter)"
   ]
  },
  {
   "cell_type": "code",
   "execution_count": null,
   "metadata": {},
   "outputs": [],
   "source": [
    "name = \"Yarana\"\n",
    "# Printing first letter of string\n",
    "first_letter = name[0]\n",
    "print(first_letter)"
   ]
  },
  {
   "attachments": {},
   "cell_type": "markdown",
   "metadata": {},
   "source": [
    "## len() Function\n",
    "len is a built-in function in Python. When used with a string, len returns the length or the number of characters in the string. "
   ]
  },
  {
   "cell_type": "code",
   "execution_count": null,
   "metadata": {},
   "outputs": [],
   "source": [
    "name = \"Yarana\"\n",
    "len(name)"
   ]
  },
  {
   "attachments": {},
   "cell_type": "markdown",
   "metadata": {},
   "source": [
    "Blank space and exclamation mark in our string will also be counted as elements."
   ]
  },
  {
   "cell_type": "code",
   "execution_count": null,
   "metadata": {},
   "outputs": [],
   "source": [
    "name = \"yara na\"\n",
    "len(name)"
   ]
  },
  {
   "cell_type": "code",
   "execution_count": null,
   "metadata": {},
   "outputs": [],
   "source": [
    "# Printing last letter\n",
    "name = \"Yarana!\"\n",
    "length = len(name)\n",
    "print(name[length-1])"
   ]
  },
  {
   "attachments": {},
   "cell_type": "markdown",
   "metadata": {},
   "source": [
    "Alternatively, we can also use negative indices for accessing the string from last"
   ]
  },
  {
   "cell_type": "code",
   "execution_count": null,
   "metadata": {},
   "outputs": [],
   "source": [
    "name = \"Yarana!\"\n",
    "name[-1]"
   ]
  },
  {
   "cell_type": "code",
   "execution_count": null,
   "metadata": {},
   "outputs": [],
   "source": [
    "name = \"Vishal\"\n",
    "name[-2]"
   ]
  },
  {
   "attachments": {},
   "cell_type": "markdown",
   "metadata": {},
   "source": [
    "## String Slices\n",
    "1. A piece or subset of a string is known as slice\n",
    "1. Slice operator is applied to a string with the use of square braces ([]).\n",
    "1. Operator [n:m] will give a substring which consists of letters between n and m indices, including letter at index n but excluding that at m\n",
    "1. operator [n:m:s] will give a substring which consists of letters from nth index to (m-1)th index, where s is called the step value"
   ]
  },
  {
   "cell_type": "code",
   "execution_count": null,
   "metadata": {},
   "outputs": [],
   "source": [
    "name = \"Yarana\"\n",
    "print(name[0:4])"
   ]
  },
  {
   "cell_type": "code",
   "execution_count": null,
   "metadata": {},
   "outputs": [],
   "source": [
    "name = \"yarana\"\n",
    "print(name[1:6:2])\n",
    "print(name[0:6:2])"
   ]
  },
  {
   "cell_type": "code",
   "execution_count": null,
   "metadata": {},
   "outputs": [],
   "source": [
    "name = \"vishal\"\n",
    "name[:4]"
   ]
  },
  {
   "cell_type": "code",
   "execution_count": null,
   "metadata": {},
   "outputs": [],
   "source": [
    "name = \"vishal\"\n",
    "name[4:]"
   ]
  },
  {
   "cell_type": "code",
   "execution_count": null,
   "metadata": {},
   "outputs": [],
   "source": [
    "name = \"vishal\"\n",
    "name[4:3]"
   ]
  },
  {
   "attachments": {},
   "cell_type": "markdown",
   "metadata": {},
   "source": [
    "If the second index, i.e., m, is smaller than the first index, i.e., n, then output will be an empty string represented by two single quotes"
   ]
  },
  {
   "attachments": {},
   "cell_type": "markdown",
   "metadata": {},
   "source": [
    "If we give the value of step as -1 and no value for n and m, then it will print the string in reverse order."
   ]
  },
  {
   "cell_type": "code",
   "execution_count": null,
   "metadata": {},
   "outputs": [],
   "source": [
    "name = \"yarana\"\n",
    "name[::-1]"
   ]
  },
  {
   "attachments": {},
   "cell_type": "markdown",
   "metadata": {},
   "source": [
    "An empty string has length 0. Though it does not contain any character, it is still a \n",
    "string"
   ]
  },
  {
   "attachments": {},
   "cell_type": "markdown",
   "metadata": {},
   "source": [
    "## Strings are Immutable\n",
    "Strings are immutable which means that we cannot change any element of a string. If we want to change an element of a string, we have to create a new string"
   ]
  },
  {
   "cell_type": "code",
   "execution_count": null,
   "metadata": {},
   "outputs": [],
   "source": [
    "name = \"yarana\"\n",
    "# we try to change the 0th index of the string to a character p, but the Python interpreter generates an error.\n",
    "name[0] = 'v'"
   ]
  },
  {
   "cell_type": "code",
   "execution_count": null,
   "metadata": {},
   "outputs": [],
   "source": [
    "# The solution to this problem is to generate a new string rather than change the old strin\n",
    "name = \"yarana\"\n",
    "new_name = 'v' + name[1:]\n",
    "print(new_name)"
   ]
  },
  {
   "attachments": {},
   "cell_type": "markdown",
   "metadata": {},
   "source": [
    "## String Traversal\n",
    "1. Traversal is a process in which we access all the elements of the string one by one using some conditional statements such as for loop, while loop, etc\n",
    "2. String traversal is an important pattern since there will be many situations in different programs where we need to visit each element of the string and do some operations, continuing till the end of the string"
   ]
  },
  {
   "cell_type": "code",
   "execution_count": null,
   "metadata": {},
   "outputs": [],
   "source": [
    "# Example\n",
    "i = 0\n",
    "name = 'yarana'\n",
    "while i < len(name):\n",
    "    letter = name[i]\n",
    "    print(letter)\n",
    "    i += 1\n"
   ]
  },
  {
   "cell_type": "code",
   "execution_count": null,
   "metadata": {},
   "outputs": [],
   "source": [
    "i = 0\n",
    "name = \"vishal thakur hindu\"\n",
    "while i < len(name):\n",
    "    letter = name[i]\n",
    "    print(letter)\n",
    "    i += 1"
   ]
  },
  {
   "cell_type": "code",
   "execution_count": null,
   "metadata": {},
   "outputs": [],
   "source": [
    "name = \"yash\"\n",
    "for char in name:\n",
    "    print(char)"
   ]
  },
  {
   "cell_type": "code",
   "execution_count": null,
   "metadata": {},
   "outputs": [],
   "source": [
    "# You have been given a string ‘I live in Cochin. I love pets.’ Divide this string in such a way \n",
    "# that the two sentences in it are separated and stored in different variables. Print them.\n",
    "two_sentence = 'I live in Cochin. I love pets.'\n",
    "sent_1 = two_sentence[:17]\n",
    "sent_2 = two_sentence[18:]\n",
    "print(sent_1)\n",
    "print(sent_2)"
   ]
  },
  {
   "attachments": {},
   "cell_type": "markdown",
   "metadata": {},
   "source": [
    "## Searching within Strings"
   ]
  },
  {
   "cell_type": "code",
   "execution_count": null,
   "metadata": {},
   "outputs": [],
   "source": [
    "# Example of searching a character in a string.\n",
    "def find(string, char):\n",
    "    index = 0\n",
    "    while index < len(string):\n",
    "        if string[index] == char:\n",
    "            return index\n",
    "        index += 1\n",
    "    return 'Not found'"
   ]
  },
  {
   "cell_type": "code",
   "execution_count": null,
   "metadata": {},
   "outputs": [],
   "source": [
    "find('yarana', 'Y')"
   ]
  },
  {
   "attachments": {},
   "cell_type": "markdown",
   "metadata": {},
   "source": [
    "## Escape Characters\n",
    "1. The backslash character is used to escape characters.\n",
    "2. It converts difficult-to-type characters into a string"
   ]
  },
  {
   "cell_type": "code",
   "execution_count": null,
   "metadata": {},
   "outputs": [],
   "source": [
    "age = 'I'm 6'2\" tall'"
   ]
  },
  {
   "cell_type": "code",
   "execution_count": null,
   "metadata": {},
   "outputs": [],
   "source": [
    "age = 'I\\'m 6\\'2\\\" tall'\n",
    "print(age)\n"
   ]
  },
  {
   "cell_type": "code",
   "execution_count": null,
   "metadata": {},
   "outputs": [],
   "source": [
    "name = 'vish\\nal'\n",
    "print(name)"
   ]
  },
  {
   "cell_type": "code",
   "execution_count": null,
   "metadata": {},
   "outputs": [],
   "source": [
    "other_name_of_yarana = 'yash\\\\vishal'\n",
    "print(other_name_of_yarana)"
   ]
  },
  {
   "attachments": {},
   "cell_type": "markdown",
   "metadata": {},
   "source": [
    "## String Formatting Operator\n",
    "The strings in Python have a unique built-in operation: the %operator (modulo). This is also called the String Formatting operator and is similar to the formatting operator used in C language"
   ]
  },
  {
   "cell_type": "code",
   "execution_count": null,
   "metadata": {},
   "outputs": [],
   "source": [
    "print('My name is %s, I\\'m %d years old.' %('Yarana Kumar', 19))"
   ]
  },
  {
   "cell_type": "code",
   "execution_count": null,
   "metadata": {},
   "outputs": [],
   "source": [
    "\n",
    "print(\"the first letter of %s is %c\" %('python','p'))\n",
    "print(\"The sum = %d\" %(-15))\n",
    "print(\"The sum = %i\" %(-15))\n",
    "print(\"The sum = %u\" %(15))\n",
    "print(\"%o is the octal equivalent of %d\" %(9,9))\n",
    "print(\"%x is the hexadecimal equivalent of %d\" %(12,12))\n",
    "print(\"%X is the hexadecimal equivalent of %d\" %(12,12))\n",
    "print(\"%e is the exponential equivalent of %f\" %(8.98354,8.98354))\n",
    "print(\"%E is the exponential equivalent of %f\" %(8.98354,8.98354))"
   ]
  },
  {
   "attachments": {},
   "cell_type": "markdown",
   "metadata": {},
   "source": [
    "## Strings Formatting Function\n",
    "### <span style=\"color:red\">**capitalize()**</span>\n",
    "Makes the first letter of the string capital."
   ]
  },
  {
   "cell_type": "code",
   "execution_count": null,
   "metadata": {},
   "outputs": [],
   "source": [
    "name = 'yarana'\n",
    "name.capitalize()"
   ]
  },
  {
   "attachments": {},
   "cell_type": "markdown",
   "metadata": {},
   "source": [
    "### <span style=\"color:red\">**center(width,fillchar)**</span>\n",
    "Returns a space-padded string with the original string centered to a total width columns"
   ]
  },
  {
   "cell_type": "code",
   "execution_count": null,
   "metadata": {},
   "outputs": [],
   "source": [
    "name = 'yarana'\n",
    "name.center(10, '*')"
   ]
  },
  {
   "attachments": {},
   "cell_type": "markdown",
   "metadata": {},
   "source": [
    "### <span style=\"color:red\">**count(str,beg=0,end=len(string))**</span>\n",
    "Counts the number of times str occurs in the string or in a substring provided that starting index is beg and ending index is end."
   ]
  },
  {
   "cell_type": "code",
   "execution_count": null,
   "metadata": {},
   "outputs": [],
   "source": [
    "name = 'yarana'\n",
    "name.count('a', 0, 6)"
   ]
  },
  {
   "cell_type": "code",
   "execution_count": null,
   "metadata": {},
   "outputs": [],
   "source": [
    "name.count('y', 0, 6)"
   ]
  },
  {
   "attachments": {},
   "cell_type": "markdown",
   "metadata": {},
   "source": [
    "### <span style=\"color:red\">**decode(encoding='UTF-8',errors='strict')**</span>\n",
    "Decodes the string using the codec registered for encoding. "
   ]
  },
  {
   "attachments": {},
   "cell_type": "markdown",
   "metadata": {},
   "source": [
    "### <span style=\"color:red\">**encode(encoding='UTF-8',errors='strict')**</span>\n",
    "Returns encoded string version of string; on error, default is to raise a ValueError unless errors are given with 'ignore' or 'replace'."
   ]
  },
  {
   "attachments": {},
   "cell_type": "markdown",
   "metadata": {},
   "source": [
    "### <span style=\"color:red\">**endswith(suffix,beg=0,end=len(string))**</span>\n",
    "Determines whether string or a substring of string ends with suffix, returning True if so and False otherwise."
   ]
  },
  {
   "cell_type": "code",
   "execution_count": null,
   "metadata": {},
   "outputs": [],
   "source": [
    "name = 'yarana'\n",
    "name.endswith('n', 0, 5)"
   ]
  },
  {
   "attachments": {},
   "cell_type": "markdown",
   "metadata": {},
   "source": [
    "### <span style=\"color:red\">**expandstab(tabsize=8)**</span>\n",
    "Expands tab in string to multiple spaces."
   ]
  },
  {
   "cell_type": "code",
   "execution_count": null,
   "metadata": {},
   "outputs": [],
   "source": [
    "name = 'yarana'\n",
    "name.expandtabs(tabsize=4)"
   ]
  },
  {
   "attachments": {},
   "cell_type": "markdown",
   "metadata": {},
   "source": [
    "### <span style=\"color:red\">**find(str,beg=0,end=len(string))**</span> \n",
    "Determine whether the str occurs in the string or in a substring of string provided that the starting index is beg and the ending index is end. If the string is found, it returns the index otherwise returns -1."
   ]
  },
  {
   "cell_type": "code",
   "execution_count": null,
   "metadata": {},
   "outputs": [],
   "source": [
    "name = 'yarana'\n",
    "name.find('n', 0, 6)"
   ]
  },
  {
   "attachments": {},
   "cell_type": "markdown",
   "metadata": {},
   "source": [
    "### <span style=\"color:red\">**index(str,beg=0,end=len(string))**</span>\n",
    "Acts in the same way as find(); if str is not found, it raises an exception"
   ]
  },
  {
   "cell_type": "code",
   "execution_count": null,
   "metadata": {},
   "outputs": [],
   "source": [
    "name = 'yarana'\n",
    "name.index('y', 0, 6)\n",
    "name.index('s', 0, 6)"
   ]
  },
  {
   "attachments": {},
   "cell_type": "markdown",
   "metadata": {},
   "source": [
    "### <span style=\"color:red\">**isalnum()**</span>\n",
    "If string has at least one character and all characters are alphanumeric, then it returns True and False otherwise. "
   ]
  },
  {
   "cell_type": "code",
   "execution_count": null,
   "metadata": {},
   "outputs": [],
   "source": [
    "name_and_age = 'Yarana 19 Years'\n",
    "name_and_age.isalnum()"
   ]
  },
  {
   "cell_type": "code",
   "execution_count": null,
   "metadata": {},
   "outputs": [],
   "source": [
    "name = 'yarana'\n",
    "name.isalnum()"
   ]
  },
  {
   "cell_type": "code",
   "execution_count": null,
   "metadata": {},
   "outputs": [],
   "source": [
    "name = '12yarana'\n",
    "name.isalnum()"
   ]
  },
  {
   "attachments": {},
   "cell_type": "markdown",
   "metadata": {},
   "source": [
    "### <span style=\"color:red\">**isalpha()**</span>\n",
    "If string has at least one character and all characters are alphabetic, it returns True and False otherwise."
   ]
  },
  {
   "cell_type": "code",
   "execution_count": null,
   "metadata": {},
   "outputs": [],
   "source": [
    "name = 'yarana'\n",
    "name.isalpha()"
   ]
  },
  {
   "cell_type": "code",
   "execution_count": null,
   "metadata": {},
   "outputs": [],
   "source": [
    "name = '12yarana'\n",
    "name.isalpha()"
   ]
  },
  {
   "cell_type": "code",
   "execution_count": null,
   "metadata": {},
   "outputs": [],
   "source": [
    "name = \"ya ra na\"\n",
    "name.isalpha()"
   ]
  },
  {
   "attachments": {},
   "cell_type": "markdown",
   "metadata": {},
   "source": [
    "# Lists"
   ]
  },
  {
   "attachments": {},
   "cell_type": "markdown",
   "metadata": {},
   "source": [
    "## Values and Accessing Elements\n",
    "1. lists are also a series of values in Python. \n",
    "1. In a string, all the values are of character type but in a list, values can be of any type. \n",
    "1. The values in a list are called elements or items. \n",
    "1. A list is a collection of items or elements; the sequence of data in a list is ordered. \n",
    "1. The elements or items in a list can be accessed by their positions, i.e., indices.\n",
    "1. There are several ways of defining or creating a list. The most convenient way is using square brackets ([])"
   ]
  },
  {
   "cell_type": "code",
   "execution_count": null,
   "metadata": {},
   "outputs": [],
   "source": [
    "name = ['Yarana', 'Yash', 'Vishal', 'Natasha']\n",
    "marks = [98, 99, 97, 99.9]"
   ]
  },
  {
   "cell_type": "code",
   "execution_count": null,
   "metadata": {},
   "outputs": [],
   "source": [
    "number = ['One', 2, 3.7]"
   ]
  },
  {
   "cell_type": "code",
   "execution_count": null,
   "metadata": {},
   "outputs": [],
   "source": [
    "# Nested List\n",
    "name_and_marks = [['Yarana', 98], ['Yash', 99], ['Vishal', 97], ['Natasha', 99.9]]"
   ]
  },
  {
   "attachments": {},
   "cell_type": "markdown",
   "metadata": {},
   "source": [
    "## Copying the List\n",
    "We can copy the list using the below written code but it is not a best way to do the same. Because when we update the one list another will automatically get updated, which can cause error."
   ]
  },
  {
   "cell_type": "code",
   "execution_count": null,
   "metadata": {},
   "outputs": [],
   "source": [
    "original_list = [1, 2, 3]\n",
    "copy_list = original_list"
   ]
  },
  {
   "cell_type": "code",
   "execution_count": null,
   "metadata": {},
   "outputs": [],
   "source": [
    "original_list.append(10)\n",
    "print(original_list)\n",
    "print(copy_list)"
   ]
  },
  {
   "attachments": {},
   "cell_type": "markdown",
   "metadata": {},
   "source": [
    "There are two ways to make copy of a list.\n",
    "1. Using [ : ] operator\n",
    "2. Using built-in copy function"
   ]
  },
  {
   "attachments": {},
   "cell_type": "markdown",
   "metadata": {},
   "source": [
    "### Using [ : ] operator"
   ]
  },
  {
   "cell_type": "code",
   "execution_count": null,
   "metadata": {},
   "outputs": [],
   "source": [
    "list_original = [1, 2, 4, 5]\n",
    "list_copy = list_original[:]\n",
    "print(list_copy)"
   ]
  },
  {
   "cell_type": "code",
   "execution_count": null,
   "metadata": {},
   "outputs": [],
   "source": [
    "list_original.append(10)\n",
    "print(list_original)\n",
    "print(list_copy)"
   ]
  },
  {
   "attachments": {},
   "cell_type": "markdown",
   "metadata": {},
   "source": [
    "### Using built-in function\n",
    "Python has a built-in copy function which can be used to make copy of an existing list. In order to use the copy function, first we have to import it"
   ]
  },
  {
   "cell_type": "code",
   "execution_count": null,
   "metadata": {},
   "outputs": [],
   "source": [
    "from copy import copy"
   ]
  },
  {
   "cell_type": "code",
   "execution_count": null,
   "metadata": {},
   "outputs": [],
   "source": [
    "list1 = [9, 8, 7]\n",
    "list1_copy = copy(list1)\n",
    "print(list1)\n",
    "print(list1_copy)"
   ]
  },
  {
   "attachments": {},
   "cell_type": "markdown",
   "metadata": {},
   "source": [
    "An empty  list can also be created using enclosing the brackets with no elements inside them."
   ]
  },
  {
   "cell_type": "code",
   "execution_count": null,
   "metadata": {},
   "outputs": [],
   "source": [
    "empty_list = []"
   ]
  },
  {
   "cell_type": "code",
   "execution_count": null,
   "metadata": {},
   "outputs": [],
   "source": [
    "print(empty_list)"
   ]
  },
  {
   "attachments": {},
   "cell_type": "markdown",
   "metadata": {},
   "source": [
    "## Lists are Mutable\n",
    "Lists are mutable. The value of any element inside the list can be changed at any point of time. The elements of the list are accessible with their index value."
   ]
  },
  {
   "cell_type": "code",
   "execution_count": null,
   "metadata": {},
   "outputs": [],
   "source": [
    "list = [10, 20, 30]\n",
    "list[1]"
   ]
  },
  {
   "cell_type": "code",
   "execution_count": null,
   "metadata": {},
   "outputs": [],
   "source": [
    "list[0]"
   ]
  },
  {
   "cell_type": "code",
   "execution_count": null,
   "metadata": {},
   "outputs": [],
   "source": [
    "list[-1]"
   ]
  },
  {
   "cell_type": "code",
   "execution_count": null,
   "metadata": {},
   "outputs": [],
   "source": [
    "list[2] = 40"
   ]
  },
  {
   "cell_type": "code",
   "execution_count": null,
   "metadata": {},
   "outputs": [],
   "source": [
    "list"
   ]
  },
  {
   "attachments": {},
   "cell_type": "markdown",
   "metadata": {},
   "source": [
    "## Traversing a List\n",
    "1. Traversing a list means accessing all the elements or items of the list\n",
    "1. Traversing can be done by using any conditional statement of Python, but it is preferable to use for loop. \n",
    "1. Traversing in list is done in the same way as in string"
   ]
  },
  {
   "cell_type": "code",
   "execution_count": null,
   "metadata": {},
   "outputs": [],
   "source": [
    "list = [1, 2, 3, 4]\n",
    "for x in list:\n",
    "    print(x)"
   ]
  },
  {
   "attachments": {},
   "cell_type": "markdown",
   "metadata": {},
   "source": [
    "The for loop is used mostly when we want to read the elements of the list. However, in order to write to a list, we need to access the indices of the elements in a list."
   ]
  },
  {
   "cell_type": "code",
   "execution_count": null,
   "metadata": {},
   "outputs": [],
   "source": [
    "#  The following example traverses the list and also adds 4 to every element of the list\n",
    "list = [10, 20, 30, 40]\n",
    "for i in range(len(list)):\n",
    "    list[i] = list[i] + 4\n",
    "print(list)"
   ]
  },
  {
   "attachments": {},
   "cell_type": "markdown",
   "metadata": {},
   "source": [
    "## Deleting Elements from List\n",
    "Python provides many ways in which the elements in a list can be deleted"
   ]
  },
  {
   "attachments": {},
   "cell_type": "markdown",
   "metadata": {},
   "source": [
    "### pop operator\n",
    "If we know the index of the element that we want to delete, then we can use the pop operator."
   ]
  },
  {
   "cell_type": "code",
   "execution_count": null,
   "metadata": {},
   "outputs": [],
   "source": [
    "list = [1, 2, 3]\n",
    "a = list.pop(2)\n",
    "print(list)\n",
    "print(a)"
   ]
  },
  {
   "cell_type": "code",
   "execution_count": null,
   "metadata": {},
   "outputs": [],
   "source": [
    "list = ['Yarana', 'Yash', 'Vishal', 'Natasha']\n",
    "list.pop(3)"
   ]
  },
  {
   "attachments": {},
   "cell_type": "markdown",
   "metadata": {},
   "source": [
    "### del Operator \n",
    "The del operator deletes the value on the provided index, but it does not store the value for further use"
   ]
  },
  {
   "cell_type": "code",
   "execution_count": null,
   "metadata": {},
   "outputs": [],
   "source": [
    "list = ['Yarana', 'Yash', 'Vishal', 'Natasha']\n",
    "del(list[3])\n",
    "print(list)"
   ]
  },
  {
   "attachments": {},
   "cell_type": "markdown",
   "metadata": {},
   "source": [
    "### remove Operator \n",
    "We use the remove operator if we know the item that we want to remove or delete from the list (but not the index)."
   ]
  },
  {
   "cell_type": "code",
   "execution_count": null,
   "metadata": {},
   "outputs": [],
   "source": [
    "list = ['Yarana', 'Yash', 'Vishal', 'Natasha']\n",
    "list.remove('Natasha')\n",
    "print(list)"
   ]
  },
  {
   "attachments": {},
   "cell_type": "markdown",
   "metadata": {},
   "source": [
    "## Built-in List Operators\n",
    "### Concatenation\n",
    "1. The concatenation operator works in lists in the same way it does in a string. \n",
    "1. This operator concatenates two strings. \n",
    "1. This is done by the + operator in Python."
   ]
  },
  {
   "cell_type": "code",
   "execution_count": null,
   "metadata": {},
   "outputs": [],
   "source": [
    "list1 = [1, 2, 3]\n",
    "list2 = [4, 5, 6]\n",
    "list3 = [7, 8, 9]\n",
    "list4 = list1 + list2 + list3\n",
    "print(list4)"
   ]
  },
  {
   "attachments": {},
   "cell_type": "markdown",
   "metadata": {},
   "source": [
    "### Repetition\n",
    "1. The repetition operator works as suggested by its name; it repeats the list for a given number of times. \n",
    "1. Repetition is performed by the * operator."
   ]
  },
  {
   "cell_type": "code",
   "execution_count": null,
   "metadata": {},
   "outputs": [],
   "source": [
    "name = ['Yarana', 'Yash']\n",
    "name * 3"
   ]
  },
  {
   "attachments": {},
   "cell_type": "markdown",
   "metadata": {},
   "source": [
    "### In Operator\n",
    "1. The In operator tells the user whether the given string exists in the list or not. \n",
    "1. It gives a Boolean output, i.e., True or False. \n",
    "1. If the given input exists in the string, it gives True as output, otherwise, False."
   ]
  },
  {
   "cell_type": "code",
   "execution_count": null,
   "metadata": {},
   "outputs": [],
   "source": [
    "list = ['Yarana', 'Yash', 'Vishal', 'Natasha']\n",
    "'Yarana' in list"
   ]
  },
  {
   "cell_type": "code",
   "execution_count": null,
   "metadata": {},
   "outputs": [],
   "source": [
    "'Yas' in  list"
   ]
  },
  {
   "attachments": {},
   "cell_type": "markdown",
   "metadata": {},
   "source": [
    "## Built-in List Methods\n",
    "1. cmp(list1,list2) It compares the elements of both the lists, list1 and list2.\n",
    "2. len(list) It returns the length of the string, i.e., the distance from starting element to last element.\n",
    "3. max(list) It returns the item that has the maximum value in a list.\n",
    "4. min(list) It returns the item that has the minimum value in a list.\n",
    "5. list(seq) It converts a tuple into a list.\n",
    "6. list.append(item) It adds the item to the end of the list.\n",
    "7. list.count(item) It returns number of times the item occurs in the list. \n",
    "8. list.extend(seq) It adds the elements of the sequence at the end of the list.\n",
    "9. list.index(item) It returns the index number of the item. If item appears more than one time, it returns the lowest index number.\n",
    "10. list.insert(index,item) It inserts the given item onto the given index number while the elements in the list take one right shift.\n",
    "11. list.pop(item=list[-1]) It deletes and returns the last element of the list.\n",
    "12. list.remove(item) It deletes the given item from the list.\n",
    "13. list.reverse() It reverses the position (index number) of the items in the list.\n",
    "14. list.sort([func]) It sorts the elements inside the list and uses compare function if provided."
   ]
  },
  {
   "attachments": {},
   "cell_type": "markdown",
   "metadata": {},
   "source": [
    "### <span style=\"color:red\">**append**</span> \n",
    "Method This method can add a new element or item to an existing list."
   ]
  },
  {
   "cell_type": "code",
   "execution_count": null,
   "metadata": {},
   "outputs": [],
   "source": [
    "list = ['Yarana', 'Yash', 'Vishal', 'Natasha']\n",
    "list.append('Vibe')\n",
    "print(list)"
   ]
  },
  {
   "attachments": {},
   "cell_type": "markdown",
   "metadata": {},
   "source": [
    "### <span style=\"color:red\">**extend Method**</span> \n",
    "This method works like concatenation. It takes a list as an argument and adds it to the end of another list"
   ]
  },
  {
   "cell_type": "code",
   "execution_count": null,
   "metadata": {},
   "outputs": [],
   "source": [
    "list = ['Yarana', 'Yash', 'Vishal', 'Natasha']\n",
    "list2 = ['Vibe', 'Divya']\n",
    "list.extend(list2)\n",
    "print(list)"
   ]
  },
  {
   "attachments": {},
   "cell_type": "markdown",
   "metadata": {},
   "source": [
    "### <span style=\"color:red\">**sort Method**</span> \n",
    "This method arranges the list in ascending order."
   ]
  },
  {
   "cell_type": "code",
   "execution_count": null,
   "metadata": {},
   "outputs": [],
   "source": [
    "list = ['Yarana', 'Yash', 'Vishal', 'Natasha']\n",
    "list.sort()\n",
    "list"
   ]
  },
  {
   "cell_type": "code",
   "execution_count": null,
   "metadata": {},
   "outputs": [],
   "source": [
    "# Write a program to find duplicate characters in a given string.\n",
    "name = 'Yarana'\n",
    "first_time = []\n",
    "dup = []\n",
    "for i in name:\n",
    "    if i not in first_time:\n",
    "        first_time.append(i)\n",
    "    else:\n",
    "        if i not in dup:\n",
    "            dup.append(i)\n",
    "print(dup)"
   ]
  },
  {
   "cell_type": "code",
   "execution_count": null,
   "metadata": {},
   "outputs": [],
   "source": [
    "# Write a program to check whether a string is a palindrome or not\n",
    "string = input(\"Enter A String\")\n",
    "rev_str = string[::-1]\n",
    "if string == rev_str:\n",
    "    print('String is Palindrome')\n",
    "else:\n",
    "    print('String is not Palindrome')"
   ]
  },
  {
   "cell_type": "code",
   "execution_count": null,
   "metadata": {},
   "outputs": [],
   "source": [
    "#  Write a program to remove punctuations from a string.\n",
    "punc = '''!()-[]{};:'\"\\.,<>/@?$#^&*%_~'''\n",
    "string = input('Enter a String')\n",
    "no_punc = ''\n",
    "for char in string:\n",
    "    if char not in punc:\n",
    "        no_punc = no_punc + char\n",
    "print(no_punc)"
   ]
  },
  {
   "cell_type": "code",
   "execution_count": null,
   "metadata": {},
   "outputs": [],
   "source": [
    "# Write a program to transpose a matrix\n",
    "a = [[1, 2],\n",
    "[3, 4],\n",
    "[5, 6]]\n",
    "\n",
    "trans = [[0, 0, 0],\n",
    "[0, 0, 0]]\n",
    "\n",
    "for i in range(len(a)):\n",
    "    for j in range(len(a[0])):\n",
    "        trans[j][i] = a[i][j]\n",
    "for k in trans:\n",
    "    print(k)"
   ]
  },
  {
   "cell_type": "code",
   "execution_count": null,
   "metadata": {},
   "outputs": [],
   "source": [
    "len(a)"
   ]
  },
  {
   "attachments": {},
   "cell_type": "markdown",
   "metadata": {},
   "source": [
    "# Tuples and Dictionaries"
   ]
  },
  {
   "attachments": {},
   "cell_type": "markdown",
   "metadata": {},
   "source": [
    "# Tuples"
   ]
  },
  {
   "attachments": {},
   "cell_type": "markdown",
   "metadata": {},
   "source": [
    "1. Tuples are the sequence or series values of different types separated by commas (,)\n",
    "1. Values in the tuples can be accessed by their index number (Starting From 0)\n",
    "1. The main difference between lists and tuples is that in case of a list, a value in the list can be replaced with another anytime after its creation. Whereas in tuples, the values in it cannot be replaced with another, once tuples are created.\n",
    "1. List allows us to add new items to it. But tuple does not allow us to add new items, once it is created."
   ]
  },
  {
   "cell_type": "code",
   "execution_count": null,
   "metadata": {},
   "outputs": [],
   "source": [
    "# Example: Names of months of year defined in tuple\n",
    "months = ('January', 'February', 'March', 'April', 'May', 'June', 'July', 'August', 'September', 'October', 'November', 'December')"
   ]
  },
  {
   "attachments": {},
   "cell_type": "markdown",
   "metadata": {},
   "source": [
    "## Creating Tuples\n",
    "1. In order to create a tuple, all the items or elements are placed inside parentheses separated by commas and assigned to a variable\n",
    "1. The parentheses, at the time of creating a tuple, is not necessary, but it is a good practice to use parentheses. \n",
    "1. Tuples can have any number of different data items (that is, integer, float, string, list, etc.)"
   ]
  },
  {
   "cell_type": "code",
   "execution_count": null,
   "metadata": {},
   "outputs": [],
   "source": [
    "# A tuple with integer data items\n",
    "tuple = (1, 2, 3, 4, 0)\n",
    "print(tuple)"
   ]
  },
  {
   "cell_type": "code",
   "execution_count": null,
   "metadata": {},
   "outputs": [],
   "source": [
    "# A tuple of different data types\n",
    "tuple_mix = (2, \"Yarana\", 2.67, 'Kumar')\n",
    "print(tuple_mix)"
   ]
  },
  {
   "cell_type": "code",
   "execution_count": null,
   "metadata": {},
   "outputs": [],
   "source": [
    "# Nested tuple\n",
    "nested_tuple = (2, ['Yarana', 'Yash'], 2.67, 'Kumar')\n",
    "print(nested_tuple)"
   ]
  },
  {
   "cell_type": "code",
   "execution_count": null,
   "metadata": {},
   "outputs": [],
   "source": [
    "# Tuples can be created without prenthesis\n",
    "tuple = 1, 2, 3.6, 'Yash'\n",
    "print(tuple)"
   ]
  },
  {
   "attachments": {},
   "cell_type": "markdown",
   "metadata": {},
   "source": [
    "Creating a tuple with one element is somewhat different. When we are creating a tuple with one element, we need to add a final comma after the item or element in order to complete the assignment of the tuple"
   ]
  },
  {
   "cell_type": "code",
   "execution_count": null,
   "metadata": {},
   "outputs": [],
   "source": [
    "tuple = (\"Yarana\")\n",
    "type(tuple)"
   ]
  },
  {
   "cell_type": "code",
   "execution_count": null,
   "metadata": {},
   "outputs": [],
   "source": [
    "# To create a tuple with one element we have to use comma after the element\n",
    "tuple = (\"Yarana\",)\n",
    "type(tuple)"
   ]
  },
  {
   "cell_type": "code",
   "execution_count": null,
   "metadata": {},
   "outputs": [],
   "source": [
    "tuple = 'Yash',\n",
    "type(tuple)"
   ]
  },
  {
   "attachments": {},
   "cell_type": "markdown",
   "metadata": {},
   "source": [
    "## Accessing Values in Tuple"
   ]
  },
  {
   "attachments": {},
   "cell_type": "markdown",
   "metadata": {},
   "source": [
    "In order to access the values in a tuple, it is necessary to use the index number enclosed in square brackets along with the name of the tuple"
   ]
  },
  {
   "cell_type": "code",
   "execution_count": null,
   "metadata": {},
   "outputs": [],
   "source": [
    "tup1 = ('Yarana', 'Yash', 'Vishal', 'Abhi')\n",
    "tup2 = (1, 2, 3, 4, 7)"
   ]
  },
  {
   "cell_type": "code",
   "execution_count": null,
   "metadata": {},
   "outputs": [],
   "source": [
    "print(tup1[1])"
   ]
  },
  {
   "cell_type": "code",
   "execution_count": null,
   "metadata": {},
   "outputs": [],
   "source": [
    "print(tup2[3])"
   ]
  },
  {
   "cell_type": "code",
   "execution_count": null,
   "metadata": {},
   "outputs": [],
   "source": [
    "print(tup2[0])"
   ]
  },
  {
   "cell_type": "code",
   "execution_count": null,
   "metadata": {},
   "outputs": [],
   "source": [
    "tup2[3]"
   ]
  },
  {
   "attachments": {},
   "cell_type": "markdown",
   "metadata": {},
   "source": [
    "We can also use slicing in order to print the continuous values in a tuple"
   ]
  },
  {
   "cell_type": "code",
   "execution_count": null,
   "metadata": {},
   "outputs": [],
   "source": [
    "tup1 = ('Yarana', 'Yash', 'Vishal', 'Abhi')\n",
    "tup2 = (1, 2, 3, 4, 7)"
   ]
  },
  {
   "cell_type": "code",
   "execution_count": null,
   "metadata": {},
   "outputs": [],
   "source": [
    "tup2[2:]"
   ]
  },
  {
   "cell_type": "code",
   "execution_count": null,
   "metadata": {},
   "outputs": [],
   "source": [
    "tup1[:3]"
   ]
  },
  {
   "cell_type": "code",
   "execution_count": null,
   "metadata": {},
   "outputs": [],
   "source": [
    "tup1[:4]"
   ]
  },
  {
   "attachments": {},
   "cell_type": "markdown",
   "metadata": {},
   "source": [
    "As with the lists and strings, we can access the elements of the tuple. However, unlike strings and lists, we cannot update or delete the values in the tuple—tuples are immutable."
   ]
  },
  {
   "attachments": {},
   "cell_type": "markdown",
   "metadata": {},
   "source": [
    "## Tuples are Immutable"
   ]
  },
  {
   "attachments": {},
   "cell_type": "markdown",
   "metadata": {},
   "source": [
    "Tuples are immutable. The values or items in the tuple cannot be changed once it is declared. If we want to change the values, we have to create a new tuple"
   ]
  },
  {
   "cell_type": "code",
   "execution_count": null,
   "metadata": {},
   "outputs": [],
   "source": [
    "# Creating a tuple\n",
    "name = ('Yarana', 'Yash', 'Othername')\n",
    "\n",
    "# Changing the third element 'Othername' with 'Vishal'\n",
    "name[2] = 'Vishal'"
   ]
  },
  {
   "attachments": {},
   "cell_type": "markdown",
   "metadata": {},
   "source": [
    "## Tuple Assignment"
   ]
  },
  {
   "attachments": {},
   "cell_type": "markdown",
   "metadata": {},
   "source": [
    "1. Tuple assignment is a very attractive and powerful feature in Python. It allows the assignment of values to a tuple of variables on the left side of the assignment from the tuple of values on the right side of the assignment.\n",
    "2. The number of variables in the tuple on the left of the assignment must match the number of elements/items in the tuple on the right of the assignment"
   ]
  },
  {
   "cell_type": "code",
   "execution_count": null,
   "metadata": {},
   "outputs": [],
   "source": [
    "# Creating a tuple\n",
    "info = ('Yarana Kumar', '6', 'BVCA', 'BHU')\n",
    "# Tuple assignment\n",
    "(Name, RollNumber, Course, Institution) = info"
   ]
  },
  {
   "cell_type": "code",
   "execution_count": null,
   "metadata": {},
   "outputs": [],
   "source": [
    "print(Name)"
   ]
  },
  {
   "cell_type": "code",
   "execution_count": null,
   "metadata": {},
   "outputs": [],
   "source": [
    "print(RollNumber)"
   ]
  },
  {
   "cell_type": "code",
   "execution_count": null,
   "metadata": {},
   "outputs": [],
   "source": [
    "print(Course)"
   ]
  },
  {
   "cell_type": "code",
   "execution_count": null,
   "metadata": {},
   "outputs": [],
   "source": [
    "Institution"
   ]
  },
  {
   "attachments": {},
   "cell_type": "markdown",
   "metadata": {},
   "source": [
    "1. In the assignment statement, each variable is assigned with a value that was inside the tuple and can be accessed individually\n",
    "1. If we had used the traditional assignment procedure, it would have been done in 7 lines of statement. With the help of tuple assignment, it is done in a one-line statement\n",
    "1. Similarly, sometimes we need to swap the values of two variables in the program. With the traditional approach, this can be done by using a temporary variable for swapping the values of two variables.\n",
    "1. The number of variables on the left side of the assignment must match the number of values on the right side of the assignment."
   ]
  },
  {
   "cell_type": "code",
   "execution_count": null,
   "metadata": {},
   "outputs": [],
   "source": [
    "x = 3\n",
    "y = 4\n",
    "print('Before Tuple Assignment')\n",
    "print('x=', x, '\\ny=', y)\n",
    "x, y = y, x   # Tuple assignment\n",
    "print('After Tuple Assignment')\n",
    "print('x=', x)\n",
    "print('y=', y)"
   ]
  },
  {
   "attachments": {},
   "cell_type": "markdown",
   "metadata": {},
   "source": [
    "## Tuples as Return Values"
   ]
  },
  {
   "attachments": {},
   "cell_type": "markdown",
   "metadata": {},
   "source": [
    "1. Tuples can also be returned by the function as return values. \n",
    "1. Generally, the function returns only one value but by returning tuple, a function can return more than one value. \n",
    "1. For example, if we want to compute a division with two integers and want to know the quotient and the remainder, both the quotient and the remainder can be computed at the same time. Two values will be returned, i.e., quotient and remainder, by using the tuple as the return value of the function"
   ]
  },
  {
   "cell_type": "code",
   "execution_count": null,
   "metadata": {},
   "outputs": [],
   "source": [
    "# Defining a function\n",
    "def div(a, b):\n",
    "    quotient = a / b\n",
    "    remainder = a % b\n",
    "    return quotient, remainder"
   ]
  },
  {
   "cell_type": "code",
   "execution_count": null,
   "metadata": {},
   "outputs": [],
   "source": [
    "# Calling the function\n",
    "x = 7\n",
    "y = 3\n",
    "t = div(x, y)\n",
    "print(t)\n",
    "print(type(t))"
   ]
  },
  {
   "attachments": {},
   "cell_type": "markdown",
   "metadata": {},
   "source": [
    "We can also use the tuple assignment approach in order to print the quotient and the remainder separately"
   ]
  },
  {
   "cell_type": "code",
   "execution_count": null,
   "metadata": {},
   "outputs": [],
   "source": [
    "quot, rem = div(10, 3)\n",
    "print(quot)\n",
    "print(rem)"
   ]
  },
  {
   "cell_type": "code",
   "execution_count": null,
   "metadata": {},
   "outputs": [],
   "source": [
    "# Another example of tuple as return value\n",
    "def min_max(t):\n",
    "    return min(t), max(t)"
   ]
  },
  {
   "cell_type": "code",
   "execution_count": null,
   "metadata": {},
   "outputs": [],
   "source": [
    "a = (1, 4, 6, 8, 0, -3, 88)\n",
    "min_max(a)"
   ]
  },
  {
   "attachments": {},
   "cell_type": "markdown",
   "metadata": {},
   "source": [
    "## Variable-lenght Argument Tuples"
   ]
  },
  {
   "attachments": {},
   "cell_type": "markdown",
   "metadata": {},
   "source": [
    "Variable number of arguments can also be passed to a function. A variable name that is preceded by an asterisk (*) collects the arguments into a tuple"
   ]
  },
  {
   "cell_type": "code",
   "execution_count": null,
   "metadata": {},
   "outputs": [],
   "source": [
    "def traverse(*t):\n",
    "    i = 0\n",
    "    while i < len(t):\n",
    "        print(t[i])\n",
    "        i+=1\n",
    "\n",
    "traverse(1, 2, 3, 4, 5)\n"
   ]
  },
  {
   "attachments": {},
   "cell_type": "markdown",
   "metadata": {},
   "source": [
    "1. In the given example, we have defined a function traverse with argument *t, which means it can take any number of arguments and will print each of them one by one.\n",
    "1. In order to pass a series of arguments to a function, we need to simply use * before the arguments.\n",
    "1. For example, the function div that was discussed in earlier section takes exactly two arguments; but it does not work when we pass a tuple to it."
   ]
  },
  {
   "cell_type": "code",
   "execution_count": null,
   "metadata": {},
   "outputs": [],
   "source": [
    "t = (10, 3)\n",
    "div(t)"
   ]
  },
  {
   "attachments": {},
   "cell_type": "markdown",
   "metadata": {},
   "source": [
    "To make it work with a tuple, it is necessary to scatter the values of the tuple."
   ]
  },
  {
   "cell_type": "code",
   "execution_count": null,
   "metadata": {},
   "outputs": [],
   "source": [
    "t = (10, 3)\n",
    "div(*t)"
   ]
  },
  {
   "attachments": {},
   "cell_type": "markdown",
   "metadata": {},
   "source": [
    "When the asterisk (*) is used before the arguments at the time of function definition, it collects all the calling function arguments in a tuple and when it is used at the time of calling, it scatters the values of the tuple."
   ]
  },
  {
   "cell_type": "code",
   "execution_count": null,
   "metadata": {},
   "outputs": [],
   "source": [
    "# An email address is provided: hello@python.org . Using tuple assignment, split the username and domain from the email address. \n",
    "# (Hint : use split method)\n",
    "addr = 'hello@python.org'\n",
    "username, domain = addr.split('@')\n",
    "print('Username:', username)\n",
    "print('Domain:', domain)"
   ]
  },
  {
   "cell_type": "code",
   "execution_count": null,
   "metadata": {},
   "outputs": [],
   "source": [
    "#Write a function called sumall that takes any number of arguments and returns their sum.\n",
    "def sumall(*t):\n",
    "    sum = 0\n",
    "    i = 0\n",
    "    while i < len(t):\n",
    "        sum = sum + t[i]\n",
    "        i += 1\n",
    "    return sum"
   ]
  },
  {
   "cell_type": "code",
   "execution_count": null,
   "metadata": {},
   "outputs": [],
   "source": [
    "sumall(1, 2, 3, 4, 5,6)"
   ]
  },
  {
   "cell_type": "code",
   "execution_count": null,
   "metadata": {},
   "outputs": [],
   "source": [
    "# Write a function called circleinfo which takes the radius of circle as argument and returns the area and circumference of the circle\n",
    "def circleinfo(r):\n",
    "    area = 3.14159*r*r\n",
    "    circumference = 2*3.14159*r\n",
    "    return area, circumference"
   ]
  },
  {
   "cell_type": "code",
   "execution_count": null,
   "metadata": {},
   "outputs": [],
   "source": [
    "circleinfo(5)"
   ]
  },
  {
   "attachments": {},
   "cell_type": "markdown",
   "metadata": {},
   "source": [
    "## Basic Tuple Operations"
   ]
  },
  {
   "attachments": {},
   "cell_type": "markdown",
   "metadata": {},
   "source": [
    "### <span style=\"color:red\">**Concatenation**</span>\n",
    "1. The concatenation operator works in tuples in the same way as it does in lists. \n",
    "2. This operator concatenates two tuples. \n",
    "3. This is done by the + operator in Python.\n"
   ]
  },
  {
   "cell_type": "code",
   "execution_count": null,
   "metadata": {},
   "outputs": [],
   "source": [
    "t1 = (1, 2, 3, 4)\n",
    "t2 = (5, 6, 7, 8, 9)\n",
    "t3 = t1 + t2\n",
    "print(t3)"
   ]
  },
  {
   "attachments": {},
   "cell_type": "markdown",
   "metadata": {},
   "source": [
    "### <span style=\"color:red\">**Repetition**</span>\n",
    "1. The repetition operator works as its name suggests; it repeats the tuples a given number of times. \n",
    "2. Repetition is performed by the* operator in Python."
   ]
  },
  {
   "cell_type": "code",
   "execution_count": null,
   "metadata": {},
   "outputs": [],
   "source": [
    "tuple = ('Hii',)\n",
    "print(tuple*5)"
   ]
  },
  {
   "attachments": {},
   "cell_type": "markdown",
   "metadata": {},
   "source": [
    "### <span style=\"color:red\">**in Operator**</span>\n",
    "1. The in operator also works on tuples. \n",
    "1. It tells user that the given element exists in the tuple or not. \n",
    "1. It gives a Boolean output, that is, TRUE or FALSE"
   ]
  },
  {
   "cell_type": "code",
   "execution_count": null,
   "metadata": {},
   "outputs": [],
   "source": [
    "tuple = (10, 20, 30, 40, 50)\n",
    "20 in tuple"
   ]
  },
  {
   "cell_type": "code",
   "execution_count": null,
   "metadata": {},
   "outputs": [],
   "source": [
    "tuple = ('Yarana', 'Yash', 'Vishal')\n",
    "'Kumar' in tuple"
   ]
  },
  {
   "attachments": {},
   "cell_type": "markdown",
   "metadata": {},
   "source": [
    "## Iteration\n",
    "Iteration can be done in tuples using for loop. It helps in traversing the tuple."
   ]
  },
  {
   "cell_type": "code",
   "execution_count": null,
   "metadata": {},
   "outputs": [],
   "source": [
    "tuple = (1, 2, 3, 4, 5)\n",
    "for x in tuple:\n",
    "    print(x)"
   ]
  },
  {
   "attachments": {},
   "cell_type": "markdown",
   "metadata": {},
   "source": [
    "## Built-In Tuple Functions"
   ]
  },
  {
   "attachments": {},
   "cell_type": "markdown",
   "metadata": {},
   "source": [
    "### cmp(tuple1, tuple2)\n",
    "It compares the items of two tuples.\n"
   ]
  },
  {
   "attachments": {},
   "cell_type": "markdown",
   "metadata": {},
   "source": [
    "### len(tuple)\n",
    "It returns the length of a tuple."
   ]
  },
  {
   "cell_type": "code",
   "execution_count": null,
   "metadata": {},
   "outputs": [],
   "source": [
    "name = ('Yarana', 'Yash', 'Vishal')\n",
    "info = ('Yarana', '6', 'BVCA')\n",
    "len(name)"
   ]
  },
  {
   "attachments": {},
   "cell_type": "markdown",
   "metadata": {},
   "source": [
    "### zip(tuple1, tuple2)\n",
    "It 'zips' elements from two tuples into a list of tuples.\n"
   ]
  },
  {
   "cell_type": "code",
   "execution_count": null,
   "metadata": {},
   "outputs": [],
   "source": [
    "name = ('Yarana', 'Yash', 'Vishal')\n",
    "info = ('Yarana', '6', 'BVCA')\n",
    "new = zip(name, info)\n",
    "print(set(new))"
   ]
  },
  {
   "attachments": {},
   "cell_type": "markdown",
   "metadata": {},
   "source": [
    "### max(tuple)\n",
    "It returns the largest value among the elements in a tuple."
   ]
  },
  {
   "cell_type": "code",
   "execution_count": null,
   "metadata": {},
   "outputs": [],
   "source": [
    "tuple1 = (1, 2, 3, 4)\n",
    "max(tuple1)"
   ]
  },
  {
   "attachments": {},
   "cell_type": "markdown",
   "metadata": {},
   "source": [
    "### min(tuple)\n",
    "It returns the smallest value among the elements in a tuple"
   ]
  },
  {
   "cell_type": "code",
   "execution_count": null,
   "metadata": {},
   "outputs": [],
   "source": [
    "tuple1 = (1, 2, 3, 4)\n",
    "min(tuple1)"
   ]
  },
  {
   "attachments": {},
   "cell_type": "markdown",
   "metadata": {},
   "source": [
    "### tuple(seq) \n",
    "It converts a list into a tuple."
   ]
  },
  {
   "cell_type": "code",
   "execution_count": null,
   "metadata": {},
   "outputs": [],
   "source": [
    "list1 = [1, 2, 3]\n",
    "tuple1 = tuple(list1)\n",
    "print(tuple1)"
   ]
  },
  {
   "attachments": {},
   "cell_type": "markdown",
   "metadata": {},
   "source": [
    "# Dictionaries"
   ]
  },
  {
   "attachments": {},
   "cell_type": "markdown",
   "metadata": {},
   "source": [
    "1. The Python dictionary is an unordered collection of items or elements\n",
    "1. All other compound data types in Python have only values as their elements or items whereas the dictionary has a key: value pair. \n",
    "1. Each value is associated with a key. \n",
    "1. In the list and the tuple, there are indices that are only of integer type but in dictionary, we have keys and they can be of any type\n",
    "1. Dictionary is said to be a mapping between some set of keys and values. Each key is associated to a value. \n",
    "1. The mapping of a key and value is called as a key-value pair and together they are called one item or element.\n",
    "1. A key and its value are separated by a colon (:) between them. \n",
    "1. The items or elements in a dictionary are separated by commas and all the elements must be enclosed in curly braces. \n",
    "1. A pair of curly braces with no values in between is known as an empty dictionary\n",
    "1. The values in a dictionary can be duplicated, but the keys in the dictionary are unique."
   ]
  },
  {
   "attachments": {},
   "cell_type": "markdown",
   "metadata": {},
   "source": [
    "## Creating a Dictionary\n",
    "The values in a dictionary can be of any data type, but the keys must be of immutable data types."
   ]
  },
  {
   "cell_type": "code",
   "execution_count": null,
   "metadata": {},
   "outputs": [],
   "source": [
    "# Empty Dictionary\n",
    "dict1 = {}\n",
    "print(dict1)"
   ]
  },
  {
   "cell_type": "code",
   "execution_count": null,
   "metadata": {},
   "outputs": [],
   "source": [
    "# Dictionary with integer as key\n",
    "dict2 = {1:'First', 2:'Second', 3:'Third'}\n",
    "print(dict2)"
   ]
  },
  {
   "cell_type": "code",
   "execution_count": null,
   "metadata": {},
   "outputs": [],
   "source": [
    "# Dictionary with  mixed keys\n",
    "dict3 = {'name':'Yarana', 2:[6, 'BVCA', 'BHU']}\n",
    "print(dict3)\n",
    "type(dict3)"
   ]
  },
  {
   "attachments": {},
   "cell_type": "markdown",
   "metadata": {},
   "source": [
    "Python also provides a built-in function <span style=\"color:red\">**dict()**</span> for creating a dictionary"
   ]
  },
  {
   "cell_type": "code",
   "execution_count": null,
   "metadata": {},
   "outputs": [],
   "source": [
    "dict1 = dict({})\n",
    "dict2 = dict({1:'First', 2:'Second', 3:'Third'})\n",
    "dict3 = dict({'name':'Yarana', 2:[6, 'BVCA', 'BHU']})\n",
    "\n",
    "print(dict1, '\\n', dict2, '\\n', dict3)\n",
    "type(dict1)"
   ]
  },
  {
   "attachments": {},
   "cell_type": "markdown",
   "metadata": {},
   "source": [
    "## Accessing Values in a Dictionary\n",
    "1. In order to access the elements from a dictionary, we can use the value of the key enclosed in square brackets. \n",
    "1. Python also provides a get() method that is used with the key in order to access the value\n",
    "1. There is a difference in both the accessing methods. \n",
    "1. When the key is not found in the dictionary, it returns none instead of KeyError"
   ]
  },
  {
   "cell_type": "code",
   "execution_count": null,
   "metadata": {},
   "outputs": [],
   "source": [
    "info = {'name':'Yarana', 'age':19, 'sex':'Male', 'course':'BVCA', 'inst.':'BHU'}\n",
    "print(info)"
   ]
  },
  {
   "cell_type": "code",
   "execution_count": null,
   "metadata": {},
   "outputs": [],
   "source": [
    "info['name']"
   ]
  },
  {
   "cell_type": "code",
   "execution_count": null,
   "metadata": {},
   "outputs": [],
   "source": [
    "print(info['name'])"
   ]
  },
  {
   "cell_type": "code",
   "execution_count": null,
   "metadata": {},
   "outputs": [],
   "source": [
    "info.get('name')"
   ]
  },
  {
   "cell_type": "code",
   "execution_count": null,
   "metadata": {},
   "outputs": [],
   "source": [
    "print(info.get('name'))"
   ]
  },
  {
   "cell_type": "code",
   "execution_count": null,
   "metadata": {},
   "outputs": [],
   "source": [
    "info['gender']"
   ]
  },
  {
   "cell_type": "code",
   "execution_count": null,
   "metadata": {},
   "outputs": [],
   "source": [
    "info.get('gender')"
   ]
  },
  {
   "attachments": {},
   "cell_type": "markdown",
   "metadata": {},
   "source": [
    "get() method returns None, which means nothing, when there is no value in the dictionary stored against the given key. get() also allows us to specify custom default value.\n"
   ]
  },
  {
   "cell_type": "code",
   "execution_count": null,
   "metadata": {},
   "outputs": [],
   "source": [
    "info.get(\"gender\", 'Key Does Not Exist in Dictionary!')"
   ]
  },
  {
   "attachments": {},
   "cell_type": "markdown",
   "metadata": {},
   "source": [
    "## Updating Dictionary\n",
    "1. Dictionaries in Python are mutable. \n",
    "1. Unlike those in tuple and string, the values in a dictionary can be changed, added or deleted. \n",
    "1. If the key is present in the dictionary, then the associated value with that key is updated or changed; otherwise a new key: value pair is added"
   ]
  },
  {
   "cell_type": "code",
   "execution_count": null,
   "metadata": {},
   "outputs": [],
   "source": [
    "# Creating a dictionary\n",
    "info = {'name':'Yarana', 'age':19, 'sex':'Male', 'course':'BVCA', 'inst.':'BHU'}\n",
    "print('Before Update:\\n', info)\n",
    "# Updating the value of age\n",
    "info['age'] = 20\n",
    "print('After Update:\\n', info)"
   ]
  },
  {
   "cell_type": "code",
   "execution_count": null,
   "metadata": {},
   "outputs": [],
   "source": [
    "# Adding a key: value pair\n",
    "info['address'] = 'Bihar'\n",
    "print(info)"
   ]
  },
  {
   "attachments": {},
   "cell_type": "markdown",
   "metadata": {},
   "source": [
    "## Deleting Elements from Dictionary\n",
    "1. The items or elements from a dictionary can be removed or deleted by using pop()method. \n",
    "1. pop()method removes that item from the dictionary for which the key is provided. It also returns the value of the item. \n",
    "1. popitem()method is used to remove or delete and return an arbitrary item from the dictionary\n",
    "1. The clear() method removes all the items or elements from a dictionary at once. When this operation is performed, the dictionary becomes an empty dictionary\n",
    "1. Python also provides a del keyword, which deletes the dictionary itself. When this operation is performed, the dictionary is deleted from the memory and it ceases to exist.\n"
   ]
  },
  {
   "cell_type": "code",
   "execution_count": null,
   "metadata": {},
   "outputs": [],
   "source": [
    "# Creating a dictionary which contains number and their cube pair\n",
    "cube_dict = {1:1, 2:8, 3:27, 4:64, 5:125, 6:216}"
   ]
  },
  {
   "cell_type": "code",
   "execution_count": null,
   "metadata": {},
   "outputs": [],
   "source": [
    "# Removing a particular item\n",
    "cube_dict.pop(3)"
   ]
  },
  {
   "cell_type": "code",
   "execution_count": null,
   "metadata": {},
   "outputs": [],
   "source": [
    "cube_dict"
   ]
  },
  {
   "cell_type": "code",
   "execution_count": null,
   "metadata": {},
   "outputs": [],
   "source": [
    "# Removing an arbitrary item\n",
    "cube_dict = {1:1, 2:8, 3:27, 4:64, 5:125, 6:216}\n",
    "cube_dict.popitem()"
   ]
  },
  {
   "cell_type": "code",
   "execution_count": null,
   "metadata": {},
   "outputs": [],
   "source": [
    "cube_dict.popitem()"
   ]
  },
  {
   "cell_type": "code",
   "execution_count": null,
   "metadata": {},
   "outputs": [],
   "source": [
    "print(cube_dict)"
   ]
  },
  {
   "cell_type": "code",
   "execution_count": null,
   "metadata": {},
   "outputs": [],
   "source": [
    "# Delete a particular item\n",
    "del cube_dict[4]\n",
    "print(cube_dict)"
   ]
  },
  {
   "cell_type": "code",
   "execution_count": null,
   "metadata": {},
   "outputs": [],
   "source": [
    "# Removes all item\n",
    "cube_dict.clear()\n",
    "print(cube_dict)"
   ]
  },
  {
   "cell_type": "code",
   "execution_count": null,
   "metadata": {},
   "outputs": [],
   "source": [
    "# Delete the dictionary itself\n",
    "del cube_dict\n",
    "print(cube_dict)"
   ]
  },
  {
   "attachments": {},
   "cell_type": "markdown",
   "metadata": {},
   "source": [
    "## Properties of Dictionary Keys\n",
    "1. Keys have some restrictions while defining keys\n",
    "1. duplicate keys are not allowed in the dictionary. Whenever duplicate keys are assigned values in a dictionary, the latest value is considered and stored whereas the previous one is lost\n",
    "1. Keys are immutable, i.e., we can use string, integers or tuples for dictionary keys, but something like ['key'] is not valid.\n"
   ]
  },
  {
   "cell_type": "code",
   "execution_count": null,
   "metadata": {},
   "outputs": [],
   "source": [
    "# Duplicate keys\n",
    "name = {1:'Yarana', 1:'Yash', 2:'Vishal'}\n",
    "print(name)"
   ]
  },
  {
   "cell_type": "code",
   "execution_count": null,
   "metadata": {},
   "outputs": [],
   "source": [
    "# Immutable\n",
    "name = {[1]:'Yarana', 2:'Yash', 3:'Vishal'}"
   ]
  },
  {
   "attachments": {},
   "cell_type": "markdown",
   "metadata": {},
   "source": [
    "## Operations in Dictionary\n",
    "### <span style=\"color:red\">**Traversing**</span>\n",
    "1. Traversing in dictionary is done on the basis of keys. For this, for loop is used, which iterates over the keys in the dictionary and prints the corresponding values using keys\n",
    "2. Traversing in the dictionary is done on the basis of keys because they are unique"
   ]
  },
  {
   "cell_type": "code",
   "execution_count": null,
   "metadata": {},
   "outputs": [],
   "source": [
    "# Defining a function which prints keys and values when a dictionary is passed to it\n",
    "def dict_print(d):\n",
    "    for c in d:\n",
    "        print(c, ':', d[c])"
   ]
  },
  {
   "cell_type": "code",
   "execution_count": null,
   "metadata": {},
   "outputs": [],
   "source": [
    "# Creating a dictionary\n",
    "cube_dict = {1:1, 2:8, 3:27, 4:64, 5:125, 6:216}\n",
    "dict_print(cube_dict)"
   ]
  },
  {
   "attachments": {},
   "cell_type": "markdown",
   "metadata": {},
   "source": [
    "### <span style=\"color:red\">**Membership**</span>\n",
    "Using the membership operator (in and not in), we can test whether a key is in the dictionary or not"
   ]
  },
  {
   "cell_type": "code",
   "execution_count": null,
   "metadata": {},
   "outputs": [],
   "source": [
    "# Creating a dictionary\n",
    "cube_dict = {1:1, 2:8, 3:27, 4:64, 5:125, 6:216}\n",
    "# Checking for 7 in cube_dict\n",
    "7 in cube_dict"
   ]
  },
  {
   "cell_type": "code",
   "execution_count": null,
   "metadata": {},
   "outputs": [],
   "source": [
    "# Checking for 5 in cube_dict\n",
    "5 in cube_dict"
   ]
  },
  {
   "attachments": {},
   "cell_type": "markdown",
   "metadata": {},
   "source": [
    "## Built-In Dictionary Methods"
   ]
  },
  {
   "attachments": {},
   "cell_type": "markdown",
   "metadata": {},
   "source": [
    "<span style=\"color:red\">***all(dict)***</span>: It is a Boolean type function, which returns True if all keys of dictionary are true (or the dictionary is empty)."
   ]
  },
  {
   "cell_type": "code",
   "execution_count": null,
   "metadata": {},
   "outputs": [],
   "source": [
    "name = {1:1, 2:8, 3:27}\n",
    "all(name)"
   ]
  },
  {
   "cell_type": "code",
   "execution_count": null,
   "metadata": {},
   "outputs": [],
   "source": [
    "dict1 = dict()\n",
    "all(dict1)"
   ]
  },
  {
   "attachments": {},
   "cell_type": "markdown",
   "metadata": {},
   "source": [
    "1.  <span style=\"color:red\">***any(dict)***</span>: It is also a Boolean type function, which returns True if any key of the dictionary is true. it returns false if the dictionary is empty.\n",
    "1.  <span style=\"color:red\">***len(dict)***</span>: It returns the number of items (length) in the dictionary.\n",
    "1.  <span style=\"color:red\">***cmp(dict1,dict2)***</span>: It compares the items of two dictionaries.\n",
    "1.  <span style=\"color:red\">***sorted(dict)***</span>: It returns the sorted list of keys.\n",
    "1.  <span style=\"color:red\">***str(dict)***</span>: It produces a printable string representation of the dictionary.\n",
    "1.  <span style=\"color:red\">***dict.clear()***</span>: It deletes all the items in a dictionary at once.\n",
    "1.  <span style=\"color:red\">***dict.copy()***</span>: It returns a copy of the dictionary.\n",
    "1.  <span style=\"color:red\">***dict.fromkeys()***</span>: It creates a new dictionary with keys from sequence and values set to value.\n",
    "10. <span style=\"color:red\">***dict.get(key, default=None)***</span>: For key key, returns value or default if key not in dictionary.\n",
    "11. <span style=\"color:red\">***dict.has_key(key)***</span>: It finds the key in dictionary; returns True if found and false otherwise.\n",
    "12. <span style=\"color:red\">***dict.items()***</span>: It returns a list of entire key: value pair of dictionary.\n",
    "13. <span style=\"color:red\">***dict.keys()***</span>: It returns the list of all the keys in dictionary.\n",
    "14. <span style=\"color:red\">***dict.setdefault (key, default=None)***</span>:Similar to get(), but will set dict[key]=default if keyis not already in dict.\n",
    "15. <span style=\"color:red\">***dict.update(dict2)***</span>: It adds the items from dict2 to dict.\n",
    "16. <span style=\"color:red\">***dict.values()***</span>: It returns all the values in the dictionary."
   ]
  },
  {
   "cell_type": "code",
   "execution_count": null,
   "metadata": {},
   "outputs": [],
   "source": [
    "cubes = {1:1, 2:8, 3:27, 4:64, 5:125, 6:216}"
   ]
  },
  {
   "cell_type": "code",
   "execution_count": null,
   "metadata": {},
   "outputs": [],
   "source": [
    "all(cubes)"
   ]
  },
  {
   "cell_type": "code",
   "execution_count": null,
   "metadata": {},
   "outputs": [],
   "source": [
    "any(cubes)"
   ]
  },
  {
   "cell_type": "code",
   "execution_count": null,
   "metadata": {},
   "outputs": [],
   "source": [
    "len(cubes)"
   ]
  },
  {
   "cell_type": "code",
   "execution_count": null,
   "metadata": {},
   "outputs": [],
   "source": [
    "sorted(cubes)"
   ]
  },
  {
   "cell_type": "code",
   "execution_count": null,
   "metadata": {},
   "outputs": [],
   "source": [
    "str(cubes)"
   ]
  },
  {
   "cell_type": "code",
   "execution_count": null,
   "metadata": {},
   "outputs": [],
   "source": [
    "print(\"Before Applying clear operation:\", cubes)\n",
    "cubes.clear()\n",
    "print(\"After Applying dict.cube():\", cubes)"
   ]
  },
  {
   "attachments": {},
   "cell_type": "markdown",
   "metadata": {},
   "source": [
    "Given an integral number n, write a program to generate a dictionary that contains (i, i*i) such that i is an integral number between 1 and n (both included). The program should then print the dictionary."
   ]
  },
  {
   "cell_type": "code",
   "execution_count": null,
   "metadata": {},
   "outputs": [],
   "source": [
    "num = int(input(\"Enter The Number: \"))\n",
    "dict1 = dict()\n",
    "for i in range(1, num+1):\n",
    "    dict1[i] = i*i\n",
    "print(dict1)"
   ]
  },
  {
   "attachments": {},
   "cell_type": "markdown",
   "metadata": {},
   "source": [
    "Define a function that prints a dictionary where the keys are numbers between 1 and 4 (both included) and the values are cubes of the keys."
   ]
  },
  {
   "cell_type": "code",
   "execution_count": null,
   "metadata": {},
   "outputs": [],
   "source": [
    "def dictionary():\n",
    "    n = dict()\n",
    "    n[1] = 1**3\n",
    "    n[2] = 2**3\n",
    "    n[3] = 3**3\n",
    "    n[4] = 4**3\n",
    "    print(n)"
   ]
  },
  {
   "cell_type": "code",
   "execution_count": null,
   "metadata": {},
   "outputs": [],
   "source": [
    "dictionary()"
   ]
  },
  {
   "attachments": {},
   "cell_type": "markdown",
   "metadata": {},
   "source": [
    "Consider the tuple (1,3,5,7,9,2,4,6,8,10). Write a program to print half its values in one line and the other half in the next line."
   ]
  },
  {
   "cell_type": "code",
   "execution_count": null,
   "metadata": {},
   "outputs": [],
   "source": [
    "tupl = (1, 3, 5, 7, 9, 2, 4, 6, 8, 10)\n",
    "print(tupl[:5])\n",
    "print(tupl[5:])"
   ]
  },
  {
   "attachments": {},
   "cell_type": "markdown",
   "metadata": {},
   "source": [
    "Consider the tuple (12, 7, 38, 56, 78). Write a program to print another tuple whose values are even numbers in the given tuple."
   ]
  },
  {
   "cell_type": "code",
   "execution_count": null,
   "metadata": {},
   "outputs": [],
   "source": [
    "tupl = (12, 7, 38, 56, 78)\n",
    "even_list = list()\n",
    "for i in tupl:\n",
    "    if i % 2 == 0:\n",
    "        even_list.append(i)\n",
    "print(even_list)"
   ]
  },
  {
   "attachments": {},
   "cell_type": "markdown",
   "metadata": {},
   "source": [
    "Define a function that prints a tuple whose values are the cube of a number between 1 and 15 (both included)."
   ]
  },
  {
   "cell_type": "code",
   "execution_count": null,
   "metadata": {},
   "outputs": [],
   "source": [
    "def Print_tuple():\n",
    "    cube = list()\n",
    "    for i in range(1, 16):\n",
    "        cube.append(i**3)\n",
    "    print(cube)"
   ]
  },
  {
   "cell_type": "code",
   "execution_count": null,
   "metadata": {},
   "outputs": [],
   "source": [
    "Print_tuple()"
   ]
  },
  {
   "attachments": {},
   "cell_type": "markdown",
   "metadata": {},
   "source": [
    "Write a python program to demonstrate tuples functions and operations"
   ]
  },
  {
   "cell_type": "code",
   "execution_count": null,
   "metadata": {},
   "outputs": [],
   "source": []
  },
  {
   "attachments": {},
   "cell_type": "markdown",
   "metadata": {},
   "source": [
    " Write a Python Program to demonstrate the Dictionaries functions and operations"
   ]
  },
  {
   "cell_type": "code",
   "execution_count": null,
   "metadata": {},
   "outputs": [],
   "source": []
  },
  {
   "attachments": {},
   "cell_type": "markdown",
   "metadata": {},
   "source": [
    "# Opening File"
   ]
  },
  {
   "attachments": {},
   "cell_type": "markdown",
   "metadata": {},
   "source": [
    "##### Python has a built-in open() function to open files from the directory.\n",
    "##### Two arguments that are mainly needed by the open() function are: \n",
    "##### <span style=\"color: orange\">**file name or file path**</span>\n",
    "##### <span style=\"color: orange\">**mode in which the file is opened**</span>C/09102022/152686"
   ]
  },
  {
   "attachments": {},
   "cell_type": "markdown",
   "metadata": {},
   "source": [
    "Modes Description\n",
    "1. <span style=\"color: orange\">**r**</span>: It opens a file in reading mode. The file pointer is placed at the starting of the file. It is the default mode.\n",
    "2. <span style=\"color: orange\">**rb**</span>: It opens a file in reading only mode in binary format. The file pointer is placed at the starting of the file.\n",
    "3. <span style=\"color: orange\">**r+**</span>: It opens the file in both reading and writing mode. The file pointer is placed at the starting of the file.\n",
    "4. <span style=\"color: orange\">**rb+**</span>: It opens the file in both reading and writing mode in binary format. The file pointer is placed at the starting of the file.\n",
    "5. <span style=\"color: orange\">**W**</span>: It opens the file in writing only mode. If a file exists, it overwrites the existing file; otherwise, it creates a new file.\n",
    "6. <span style=\"color: orange\">**Wb**</span>: It opens the file in writing only mode in binary format. If a file exists, it overwrites the existing file; otherwise, it creates a new file.\n",
    "7. <span style=\"color: orange\">**w+**</span>: It opens the file in both reading and writing mode. If a file exists, it overwrites the existing file; otherwise, it creates a new file.\n",
    "8. <span style=\"color: orange\">**wb+**</span>: It opens the file in booth reading and writing mode in binary format. If a file exists, it overwrites the existing file; otherwise, it creates a new file.\n",
    "9. <span style=\"color: orange\">**a**</span>: It opens a file for appending. The file pointer is placed at the end of the file. If the file does not exist in the directory, it creates a new file for writing.\n",
    "10. <span style=\"color: orange\">**ab**</span>: It opens a file for appending in binary format. The file pointer is placed at the end of the file. If the file does not exist in the directory, it creates a new file for writing.\n",
    "11. <span style=\"color: orange\">**a+**</span>: It opens a file for appending and reading. The file pointer is placed at the end of the file. If the file does not exist in the directory, it creates a new file for writing.\n",
    "12. <span style=\"color: orange\">**ab+**</span>: It opens a file for appending and reading in binary format. The file pointer is placed at the end of the file. If the file does not exist in the directory, it creates a new file for writing."
   ]
  },
  {
   "attachments": {},
   "cell_type": "markdown",
   "metadata": {},
   "source": [
    "while we get strings when reading from a text file. The binary mode is used when we deal with non-text files, such as image files, etc."
   ]
  },
  {
   "cell_type": "code",
   "execution_count": null,
   "metadata": {},
   "outputs": [],
   "source": [
    "f = open(\"chapter7.txt\")"
   ]
  },
  {
   "cell_type": "code",
   "execution_count": null,
   "metadata": {},
   "outputs": [],
   "source": [
    "f"
   ]
  },
  {
   "cell_type": "code",
   "execution_count": null,
   "metadata": {},
   "outputs": [],
   "source": [
    "f = open(\"chapter7.txt\", 'w')"
   ]
  },
  {
   "cell_type": "code",
   "execution_count": null,
   "metadata": {},
   "outputs": [],
   "source": [
    "f"
   ]
  },
  {
   "attachments": {},
   "cell_type": "markdown",
   "metadata": {},
   "source": [
    "The closing of file is done with a built-in function <span style=\"color:red; text-size: large\">**close()**</span>"
   ]
  },
  {
   "cell_type": "code",
   "execution_count": null,
   "metadata": {},
   "outputs": [],
   "source": [
    "f.close()"
   ]
  },
  {
   "attachments": {},
   "cell_type": "markdown",
   "metadata": {},
   "source": [
    "Most recommended way of using file is along with ‘with’ keyword. Because, once the ‘with’ block exits, file is automatically closed and file_object is destroyed."
   ]
  },
  {
   "cell_type": "code",
   "execution_count": null,
   "metadata": {},
   "outputs": [],
   "source": [
    "with open(\"chapter7.txt\") as f:\n",
    "    print(f.read())"
   ]
  },
  {
   "attachments": {},
   "cell_type": "markdown",
   "metadata": {},
   "source": [
    "Once a file is opened and a file object created, various pieces of information about that file can be gathered by using some predefined attributes.\n",
    "1. file.closed It will return True if the file is closed; it will otherwise return False.\n",
    "2. file.mode It will return the access mode with which the file is opened.\n",
    "3. file.name It will return the name of the file.\n",
    "4. file.softspace It will return False if space explicitly required with print; otherwise it will return True.\n"
   ]
  },
  {
   "cell_type": "code",
   "execution_count": null,
   "metadata": {},
   "outputs": [],
   "source": [
    "f.closed"
   ]
  },
  {
   "cell_type": "code",
   "execution_count": null,
   "metadata": {},
   "outputs": [],
   "source": [
    "f.mode"
   ]
  },
  {
   "cell_type": "code",
   "execution_count": null,
   "metadata": {},
   "outputs": [],
   "source": [
    "f.name"
   ]
  },
  {
   "cell_type": "code",
   "execution_count": null,
   "metadata": {},
   "outputs": [],
   "source": [
    "f.softspace"
   ]
  },
  {
   "attachments": {},
   "cell_type": "markdown",
   "metadata": {},
   "source": [
    "## Writing To A File"
   ]
  },
  {
   "attachments": {},
   "cell_type": "markdown",
   "metadata": {},
   "source": [
    "In order to write into a file, we have to open it with w mode, or a mode, or any writing-enabling mode.\n",
    "We should be careful when using the w mode because in this mode overwriting persists in case the file already exists"
   ]
  },
  {
   "cell_type": "code",
   "execution_count": null,
   "metadata": {},
   "outputs": [],
   "source": [
    "f = open(\"chapter7.txt\", 'w')"
   ]
  },
  {
   "cell_type": "code",
   "execution_count": null,
   "metadata": {},
   "outputs": [],
   "source": [
    "f.write(\"Yash\\n\")\n",
    "f.write(\"Yash\\n\")\n",
    "f.write(\"Yash\\n\")\n",
    "f.write(\"Yash\\n\")\n",
    "f.write(\"Yash\\n\")\n",
    "f.write(\"Yash\\n\")"
   ]
  },
  {
   "cell_type": "code",
   "execution_count": null,
   "metadata": {},
   "outputs": [],
   "source": [
    "f.close()"
   ]
  },
  {
   "attachments": {},
   "cell_type": "markdown",
   "metadata": {},
   "source": [
    "## Reading A File"
   ]
  },
  {
   "attachments": {},
   "cell_type": "markdown",
   "metadata": {},
   "source": [
    " We can use read(size)method to read the data specified by size. If no size is provided, it will end up reading to the end of the file."
   ]
  },
  {
   "cell_type": "code",
   "execution_count": null,
   "metadata": {},
   "outputs": [],
   "source": [
    "f = open(\"chapter7.txt\", 'r')"
   ]
  },
  {
   "cell_type": "code",
   "execution_count": null,
   "metadata": {},
   "outputs": [],
   "source": [
    "# Read first 2 bytes of data\n",
    "f.read(2)"
   ]
  },
  {
   "cell_type": "code",
   "execution_count": null,
   "metadata": {},
   "outputs": [],
   "source": [
    "# Read next 4 bytes of data\n",
    "f.read(4)"
   ]
  },
  {
   "cell_type": "code",
   "execution_count": null,
   "metadata": {},
   "outputs": [],
   "source": [
    "# Reads the reamaning data \n",
    "f.read()"
   ]
  },
  {
   "cell_type": "code",
   "execution_count": null,
   "metadata": {},
   "outputs": [],
   "source": [
    "# Again reading remaining data\n",
    "f.read()"
   ]
  },
  {
   "attachments": {},
   "cell_type": "markdown",
   "metadata": {},
   "source": [
    "<span style=\"color:red\">**readline()**</span>"
   ]
  },
  {
   "cell_type": "code",
   "execution_count": null,
   "metadata": {},
   "outputs": [],
   "source": [
    "f = open(\"chapter7.txt\", 'r')"
   ]
  },
  {
   "cell_type": "code",
   "execution_count": null,
   "metadata": {},
   "outputs": [],
   "source": [
    "# Reading First Line\n",
    "f.readline()"
   ]
  },
  {
   "cell_type": "code",
   "execution_count": null,
   "metadata": {},
   "outputs": [],
   "source": [
    "# Reading next line\n",
    "f.readline()"
   ]
  },
  {
   "cell_type": "code",
   "execution_count": null,
   "metadata": {},
   "outputs": [],
   "source": [
    "# Reading next line\n",
    "f.readline()"
   ]
  },
  {
   "cell_type": "code",
   "execution_count": null,
   "metadata": {},
   "outputs": [],
   "source": [
    "# Reading next line\n",
    "f.readline()"
   ]
  },
  {
   "cell_type": "code",
   "execution_count": null,
   "metadata": {},
   "outputs": [],
   "source": [
    "# Reading next line\n",
    "f.readline()"
   ]
  },
  {
   "cell_type": "code",
   "execution_count": null,
   "metadata": {},
   "outputs": [],
   "source": [
    "# Reading next line\n",
    "f.readline()"
   ]
  },
  {
   "cell_type": "code",
   "execution_count": null,
   "metadata": {},
   "outputs": [],
   "source": [
    "# No line to read\n",
    "f.readline()"
   ]
  },
  {
   "attachments": {},
   "cell_type": "markdown",
   "metadata": {},
   "source": [
    "## File Positions\n",
    "In Python, the <span style=\"color:red\">**tell()**</span> method tells us about the current position of the pointer. The current position tells us where reading will start from at present."
   ]
  },
  {
   "attachments": {},
   "cell_type": "markdown",
   "metadata": {},
   "source": [
    "We can also change the position of the pointer with the help of <span style=\"color:red\">**seek()**</span> method. A number of bytes are passed to be moved by the pointer as arguments to the seek() method."
   ]
  },
  {
   "attachments": {},
   "cell_type": "markdown",
   "metadata": {},
   "source": [
    "1. The value 0 indicates that the position of pointer should be set to the beginning of the file\n",
    "2. The value 1 indicates that it should be set to the current position\n",
    "3. The value 2 indicates that it should be set to the end of the file"
   ]
  },
  {
   "cell_type": "code",
   "execution_count": null,
   "metadata": {},
   "outputs": [],
   "source": [
    "f = open(\"chapter7.txt\", 'r')"
   ]
  },
  {
   "cell_type": "code",
   "execution_count": null,
   "metadata": {},
   "outputs": [],
   "source": [
    "# Reading 28 byte of data\n",
    "f.read(28)"
   ]
  },
  {
   "cell_type": "code",
   "execution_count": null,
   "metadata": {},
   "outputs": [],
   "source": [
    "# Checking the current position\n",
    "f.tell()"
   ]
  },
  {
   "cell_type": "code",
   "execution_count": null,
   "metadata": {},
   "outputs": [],
   "source": [
    "# Change position to beginning\n",
    "f.seek(0)"
   ]
  },
  {
   "cell_type": "code",
   "execution_count": null,
   "metadata": {},
   "outputs": [],
   "source": [
    "# Again reading 28 bytes of data\n",
    "f.read(28)"
   ]
  },
  {
   "cell_type": "code",
   "execution_count": null,
   "metadata": {},
   "outputs": [],
   "source": [
    "f.close()"
   ]
  },
  {
   "attachments": {},
   "cell_type": "markdown",
   "metadata": {},
   "source": [
    "## Renaming a file"
   ]
  },
  {
   "attachments": {},
   "cell_type": "markdown",
   "metadata": {},
   "source": [
    "Renaming a file in Python is done with the help of the <span style=\"color:red\">**rename()**</span> method. The rename() method is passed with two arguments, the current filename and the new filename."
   ]
  },
  {
   "cell_type": "code",
   "execution_count": null,
   "metadata": {},
   "outputs": [],
   "source": [
    "# Importing OS\n",
    "import os\n",
    "# Renaming the file\n",
    "os.rename(\"chapter7.txt\", \"test.txt\")"
   ]
  },
  {
   "attachments": {},
   "cell_type": "markdown",
   "metadata": {},
   "source": [
    "## Deleting a file"
   ]
  },
  {
   "cell_type": "code",
   "execution_count": null,
   "metadata": {},
   "outputs": [],
   "source": [
    "os.remove(\"chapter7.txt\")"
   ]
  },
  {
   "attachments": {},
   "cell_type": "markdown",
   "metadata": {},
   "source": [
    "## Files Related Method\n",
    "1. <span style=\"color:red\">**file.close()**: </span>After performing operation, it closes the file.\n",
    "2. <span style=\"color:red\">**file.flush()**: </span>It flushes the internal buffer memory.\n",
    "3. <span style=\"color:red\">**file.fileno()**: </span>It returns the integer file descriptor.\n",
    "4. <span style=\"color:red\">**file.isatty()**: </span>It returns True if file is connected with tty(-like) device, False otherwise.\n",
    "5. <span style=\"color:red\">**file.next()**: </span>It returns the next line from the file.\n",
    "6. <span style=\"color:red\">**file.read([size])**</span> :Reads the size bytes from a file.\n",
    "7. <span style=\"color:red\">**file.readline([size])**</span> :It reads the entire one line from a file.\n",
    "8. <span style=\"color:red\">**file.readlines([sizehint])**</span> :It reads until the end of the file using readline. It returns the list of lines read.\n",
    "9. <span style=\"color:red\">**file.seek([offset])**</span> :It changes the current position.\n",
    "10. <span style=\"color:red\">**file.tell()**</span> :It returns the file’s current position.\n",
    "11. <span style=\"color:red\">**file.truncate([size])**</span> :It truncates the file.\n",
    "12. <span style=\"color:red\">**file.write(str)**</span> :It writes the str string to the file.\n",
    "13. <span style=\"color:red\">**file.writelines(sequence)**</span> :It writes the sequence of strings into a file. If each string in the sequence should go into separate lines in file, the string should end with a new line character, ‘\\n’.\n"
   ]
  },
  {
   "attachments": {},
   "cell_type": "markdown",
   "metadata": {},
   "source": [
    "# Directories"
   ]
  },
  {
   "attachments": {},
   "cell_type": "markdown",
   "metadata": {},
   "source": [
    "## mkdir() Method"
   ]
  },
  {
   "attachments": {},
   "cell_type": "markdown",
   "metadata": {},
   "source": [
    "The module os in Python enables us to use various methods to work with directories."
   ]
  },
  {
   "attachments": {},
   "cell_type": "markdown",
   "metadata": {},
   "source": [
    "The mkdir() method in Python is used to make new directories in the current directory. It takes the name of the new directory to be created as an argument."
   ]
  },
  {
   "cell_type": "code",
   "execution_count": null,
   "metadata": {},
   "outputs": [],
   "source": [
    "# Omporting OS\n",
    "import os\n",
    "# Creating a new directory named chapter7\n",
    "os.mkdir(\"chapter7\")"
   ]
  },
  {
   "attachments": {},
   "cell_type": "markdown",
   "metadata": {},
   "source": [
    "## chdir() method\n",
    "The chdir() method in Python’s os module is used to change the current directory. It takes the name of \n",
    "the directory that you want to make the current directory as an argument"
   ]
  },
  {
   "cell_type": "code",
   "execution_count": null,
   "metadata": {},
   "outputs": [],
   "source": [
    "# Importing OS\n",
    "import os\n",
    "# Changing Directory\n",
    "os.chdir(\"chapter7\")"
   ]
  },
  {
   "attachments": {},
   "cell_type": "markdown",
   "metadata": {},
   "source": [
    "## getcwd() method\n",
    "The getcwd() method displays the current directory in which we are working"
   ]
  },
  {
   "cell_type": "code",
   "execution_count": null,
   "metadata": {},
   "outputs": [],
   "source": [
    "os.getcwd()"
   ]
  },
  {
   "attachments": {},
   "cell_type": "markdown",
   "metadata": {},
   "source": [
    "## rmdir() Method\n",
    "The rmdir() method in Python is used to remove directories in the current directory. It takes the name of \n",
    "the directory to be deleted as an argument"
   ]
  },
  {
   "cell_type": "code",
   "execution_count": null,
   "metadata": {},
   "outputs": [],
   "source": [
    "import os\n",
    "os.rmdir(\"chapter7\")"
   ]
  },
  {
   "attachments": {},
   "cell_type": "markdown",
   "metadata": {},
   "source": [
    "# Exceptions"
   ]
  },
  {
   "attachments": {},
   "cell_type": "markdown",
   "metadata": {},
   "source": [
    "1. The error caused by writing an improper syntax is termed syntax error or parsing error; these \n",
    "are also called compile time errors.\n",
    "2. Errors can also occur at runtime and these runtime errors are known as exceptions"
   ]
  },
  {
   "cell_type": "code",
   "execution_count": null,
   "metadata": {},
   "outputs": [],
   "source": [
    "# Example of compile time error\n",
    "a = 3\n",
    "if (a<4)"
   ]
  },
  {
   "cell_type": "code",
   "execution_count": null,
   "metadata": {},
   "outputs": [],
   "source": [
    "# Zero division error\n",
    "5/0"
   ]
  },
  {
   "attachments": {},
   "cell_type": "markdown",
   "metadata": {},
   "source": [
    "Python provides a very important feature (Exception Handling) for handling any \n",
    "unexpected error in our Python programs, and it also adds debug capabilities to them."
   ]
  },
  {
   "attachments": {},
   "cell_type": "markdown",
   "metadata": {},
   "source": [
    "## Handling Exceptions"
   ]
  },
  {
   "attachments": {},
   "cell_type": "markdown",
   "metadata": {},
   "source": [
    "### try...except\n",
    "Python provides a try statement for handling exceptions. An operation in the program \n",
    "that can cause the exception is placed in the try clause while the block of code that handles the exception \n",
    "is placed in the except clause"
   ]
  },
  {
   "attachments": {},
   "cell_type": "markdown",
   "metadata": {},
   "source": [
    "A try block can have multiple except clauses associated with it. It can be useful to \n",
    "have the try block include statements that can cause different types of exceptions."
   ]
  },
  {
   "attachments": {},
   "cell_type": "markdown",
   "metadata": {},
   "source": [
    "After except clause, we can add an else statement. The statements in the else block will \n",
    "execute only when the statements in try block do not raise any exception"
   ]
  },
  {
   "cell_type": "code",
   "execution_count": null,
   "metadata": {},
   "outputs": [],
   "source": [
    "try:\n",
    "    file = open(\"chapter7\", \"w\")\n",
    "    file.write(\"hii\")\n",
    "except IOError as msg:\n",
    "    print(msg)\n",
    "else:\n",
    "    print(\"Content Written Successfully\")\n",
    "file.close()"
   ]
  },
  {
   "attachments": {},
   "cell_type": "markdown",
   "metadata": {},
   "source": [
    "### except with No Exception"
   ]
  },
  {
   "cell_type": "code",
   "execution_count": null,
   "metadata": {},
   "outputs": [],
   "source": [
    "while True:\n",
    "    try:\n",
    "        a = int(input(\"Enter a Number\"))\n",
    "        div = 10/a\n",
    "        break\n",
    "    except:\n",
    "        print(\"Error Occured\")\n",
    "        print(\"Enter a valid value\")\n",
    "        print()\n",
    "print(\"Division is \", div)"
   ]
  },
  {
   "attachments": {},
   "cell_type": "markdown",
   "metadata": {},
   "source": [
    "### except with Multiple Exceptions"
   ]
  },
  {
   "attachments": {},
   "cell_type": "markdown",
   "metadata": {},
   "source": [
    "### try...finally"
   ]
  },
  {
   "attachments": {},
   "cell_type": "markdown",
   "metadata": {},
   "source": [
    "The try statement in Python has an optional finally clause that can be associated \n",
    "with it. The statements written in finally clause will always be executed by the interpreter, whether the \n",
    "try statement raises an exception or not."
   ]
  },
  {
   "attachments": {},
   "cell_type": "markdown",
   "metadata": {},
   "source": [
    "With the try clause, we can use either except or finally, but not both"
   ]
  },
  {
   "attachments": {},
   "cell_type": "markdown",
   "metadata": {},
   "source": [
    "We cannot use the else clause along with a finally clause"
   ]
  },
  {
   "cell_type": "code",
   "execution_count": null,
   "metadata": {},
   "outputs": [],
   "source": [
    "try:\n",
    "    file = open(\"chapter7.txt\", \"w\")\n",
    "    try:\n",
    "        file.write(\"Hello\")\n",
    "    finally:\n",
    "        print(\"Closing File\")\n",
    "        file.close()\n",
    "except IOError:\n",
    "    print(\"Error Occured\")"
   ]
  },
  {
   "attachments": {},
   "cell_type": "markdown",
   "metadata": {},
   "source": [
    "## Exception With Arguments"
   ]
  },
  {
   "attachments": {},
   "cell_type": "markdown",
   "metadata": {},
   "source": [
    "The except clause in Python can also have an argument. Arguments give additional information about the \n",
    "problem due to which the exception has occurred. We can accept the exception’s argument by passing a \n",
    "variable in the except clause. The contents of arguments may vary from exception to exception. "
   ]
  },
  {
   "cell_type": "code",
   "execution_count": null,
   "metadata": {},
   "outputs": [],
   "source": [
    "# Defining function\n",
    "def integer (a):\n",
    "    try:\n",
    "        return int(a)\n",
    "    except ValueError as Argument:\n",
    "        print(\"The Value Does not Contain Number\\n\", Argument)"
   ]
  },
  {
   "cell_type": "code",
   "execution_count": null,
   "metadata": {},
   "outputs": [],
   "source": [
    "integer(\"Hello\")"
   ]
  },
  {
   "attachments": {},
   "cell_type": "markdown",
   "metadata": {},
   "source": [
    "## User Defined Exceptions"
   ]
  },
  {
   "cell_type": "code",
   "execution_count": null,
   "metadata": {},
   "outputs": [],
   "source": [
    "class CustomError(Exception):\n",
    "    pass"
   ]
  },
  {
   "cell_type": "code",
   "execution_count": null,
   "metadata": {},
   "outputs": [],
   "source": [
    "raise CustomError"
   ]
  },
  {
   "cell_type": "code",
   "execution_count": null,
   "metadata": {},
   "outputs": [],
   "source": [
    "raise CustomError(\"An Error Occured\")"
   ]
  },
  {
   "cell_type": "code",
   "execution_count": null,
   "metadata": {},
   "outputs": [],
   "source": []
  }
 ],
 "metadata": {
  "kernelspec": {
   "display_name": "Python 3.10.7 64-bit",
   "language": "python",
   "name": "python3"
  },
  "language_info": {
   "codemirror_mode": {
    "name": "ipython",
    "version": 3
   },
   "file_extension": ".py",
   "mimetype": "text/x-python",
   "name": "python",
   "nbconvert_exporter": "python",
   "pygments_lexer": "ipython3",
   "version": "3.11.3"
  },
  "vscode": {
   "interpreter": {
    "hash": "2bb23381bfbc91ec6d34d7156553c9a17aad40b7e47163f9e724cf2addcd827a"
   }
  }
 },
 "nbformat": 4,
 "nbformat_minor": 2
}
